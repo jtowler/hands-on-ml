{
 "cells": [
  {
   "cell_type": "code",
   "execution_count": 1,
   "id": "adult-details",
   "metadata": {},
   "outputs": [
    {
     "data": {
      "text/plain": [
       "\u001b[32mimport \u001b[39m\u001b[36mscala.util.Random\u001b[39m"
      ]
     },
     "execution_count": 1,
     "metadata": {},
     "output_type": "execute_result"
    }
   ],
   "source": [
    "import scala.util.Random"
   ]
  },
  {
   "cell_type": "code",
   "execution_count": 2,
   "id": "dental-discovery",
   "metadata": {},
   "outputs": [
    {
     "data": {
      "text/plain": [
       "\u001b[36mres1\u001b[39m: \u001b[32mString\u001b[39m = \u001b[32m\"2.13.4\"\u001b[39m"
      ]
     },
     "execution_count": 2,
     "metadata": {},
     "output_type": "execute_result"
    }
   ],
   "source": [
    "scala.util.Properties.versionNumberString"
   ]
  },
  {
   "cell_type": "code",
   "execution_count": 3,
   "id": "lonely-syndication",
   "metadata": {},
   "outputs": [
    {
     "data": {
      "text/plain": [
       "\u001b[32mimport \u001b[39m\u001b[36m$ivy.$                           \n",
       "\u001b[39m\n",
       "\u001b[32mimport \u001b[39m\u001b[36m$ivy.$                             \n",
       "\u001b[39m\n",
       "\u001b[32mimport \u001b[39m\u001b[36m$ivy.$                                     \u001b[39m"
      ]
     },
     "execution_count": 3,
     "metadata": {},
     "output_type": "execute_result"
    }
   ],
   "source": [
    "import $ivy.`org.slf4j:slf4j-api:1.7.30`\n",
    "import $ivy.`org.scalanlp:breeze_2.13:1.1`\n",
    "import $ivy.`org.scalanlp:breeze-natives_2.13:1.1`"
   ]
  },
  {
   "cell_type": "code",
   "execution_count": 4,
   "id": "optical-federal",
   "metadata": {},
   "outputs": [
    {
     "data": {
      "text/plain": [
       "\u001b[36mcontent\u001b[39m: \u001b[32mString\u001b[39m = \u001b[32m\"\"\"sepal_length,sepal_width,petal_length,petal_width,species\n",
       "5.1,3.5,1.4,0.2,setosa\n",
       "4.9,3.0,1.4,0.2,setosa\n",
       "4.7,3.2,1.3,0.2,setosa\n",
       "4.6,3.1,1.5,0.2,setosa\n",
       "5.0,3.6,1.4,0.2,setosa\n",
       "5.4,3.9,1.7,0.4,setosa\n",
       "4.6,3.4,1.4,0.3,setosa\n",
       "5.0,3.4,1.5,0.2,setosa\n",
       "4.4,2.9,1.4,0.2,setosa\n",
       "4.9,3.1,1.5,0.1,setosa\n",
       "5.4,3.7,1.5,0.2,setosa\n",
       "4.8,3.4,1.6,0.2,setosa\n",
       "4.8,3.0,1.4,0.1,setosa\n",
       "4.3,3.0,1.1,0.1,setosa\n",
       "5.8,4.0,1.2,0.2,setosa\n",
       "5.7,4.4,1.5,0.4,setosa\n",
       "5.4,3.9,1.3,0.4,setosa\n",
       "5.1,3.5,1.4,0.3,setosa\n",
       "5.7,3.8,1.7,0.3,setosa\n",
       "5.1,3.8,1.5,0.3,setosa\n",
       "5.4,3.4,1.7,0.2,setosa\n",
       "5.1,3.7,1.5,0.4,setosa\n",
       "4.6,3.6,1.0,0.2,setosa\n",
       "5.1,3.3,1.7,0.5,setosa\n",
       "4.8,3.4,1.9,0.2,setosa\n",
       "5.0,3.0,1.6,0.2,setosa\n",
       "5.0,3.4,1.6,0.4,setosa\n",
       "5.2,3.5,1.5,0.2,setosa\n",
       "5.2,3.4,1.4,0.2,setosa\n",
       "4.7,3.2,1.6,0.2,setosa\n",
       "4.8,3.1,1.6,0.2,setosa\n",
       "5.4,3.4,1.5,0.4,setosa\n",
       "5.2,4.1,1.5,0.1,setosa\n",
       "5.5,4.2,1.4,0.2,setosa\n",
       "4.9,3.1,1.5,0.1,setosa\n",
       "5.0,3.2,1.2,0.2,setosa\n",
       "5.5,3.5,1.3,0.2,setosa\n",
       "4.9,3.1,1.5,0.1,setosa\n",
       "\u001b[39m..."
      ]
     },
     "execution_count": 4,
     "metadata": {},
     "output_type": "execute_result"
    }
   ],
   "source": [
    "val content = scala.io.Source.fromURL(\"https://gist.githubusercontent.com/curran/a08a1080b88344b0c8a7/raw/0e7a9b0a5d22642a06d3d5b9bcbad9890c8ee534/iris.csv\").mkString"
   ]
  },
  {
   "cell_type": "code",
   "execution_count": 5,
   "id": "freelance-problem",
   "metadata": {},
   "outputs": [
    {
     "data": {
      "text/plain": [
       "\u001b[36mdata\u001b[39m: \u001b[32mArray\u001b[39m[\u001b[32mString\u001b[39m] = \u001b[33mArray\u001b[39m(\n",
       "  \u001b[32m\"5.1,3.5,1.4,0.2,setosa\"\u001b[39m,\n",
       "  \u001b[32m\"4.9,3.0,1.4,0.2,setosa\"\u001b[39m,\n",
       "  \u001b[32m\"4.7,3.2,1.3,0.2,setosa\"\u001b[39m,\n",
       "  \u001b[32m\"4.6,3.1,1.5,0.2,setosa\"\u001b[39m,\n",
       "  \u001b[32m\"5.0,3.6,1.4,0.2,setosa\"\u001b[39m,\n",
       "  \u001b[32m\"5.4,3.9,1.7,0.4,setosa\"\u001b[39m,\n",
       "  \u001b[32m\"4.6,3.4,1.4,0.3,setosa\"\u001b[39m,\n",
       "  \u001b[32m\"5.0,3.4,1.5,0.2,setosa\"\u001b[39m,\n",
       "  \u001b[32m\"4.4,2.9,1.4,0.2,setosa\"\u001b[39m,\n",
       "  \u001b[32m\"4.9,3.1,1.5,0.1,setosa\"\u001b[39m,\n",
       "  \u001b[32m\"5.4,3.7,1.5,0.2,setosa\"\u001b[39m,\n",
       "  \u001b[32m\"4.8,3.4,1.6,0.2,setosa\"\u001b[39m,\n",
       "  \u001b[32m\"4.8,3.0,1.4,0.1,setosa\"\u001b[39m,\n",
       "  \u001b[32m\"4.3,3.0,1.1,0.1,setosa\"\u001b[39m,\n",
       "  \u001b[32m\"5.8,4.0,1.2,0.2,setosa\"\u001b[39m,\n",
       "  \u001b[32m\"5.7,4.4,1.5,0.4,setosa\"\u001b[39m,\n",
       "  \u001b[32m\"5.4,3.9,1.3,0.4,setosa\"\u001b[39m,\n",
       "  \u001b[32m\"5.1,3.5,1.4,0.3,setosa\"\u001b[39m,\n",
       "  \u001b[32m\"5.7,3.8,1.7,0.3,setosa\"\u001b[39m,\n",
       "  \u001b[32m\"5.1,3.8,1.5,0.3,setosa\"\u001b[39m,\n",
       "  \u001b[32m\"5.4,3.4,1.7,0.2,setosa\"\u001b[39m,\n",
       "  \u001b[32m\"5.1,3.7,1.5,0.4,setosa\"\u001b[39m,\n",
       "  \u001b[32m\"4.6,3.6,1.0,0.2,setosa\"\u001b[39m,\n",
       "  \u001b[32m\"5.1,3.3,1.7,0.5,setosa\"\u001b[39m,\n",
       "  \u001b[32m\"4.8,3.4,1.9,0.2,setosa\"\u001b[39m,\n",
       "  \u001b[32m\"5.0,3.0,1.6,0.2,setosa\"\u001b[39m,\n",
       "  \u001b[32m\"5.0,3.4,1.6,0.4,setosa\"\u001b[39m,\n",
       "  \u001b[32m\"5.2,3.5,1.5,0.2,setosa\"\u001b[39m,\n",
       "  \u001b[32m\"5.2,3.4,1.4,0.2,setosa\"\u001b[39m,\n",
       "  \u001b[32m\"4.7,3.2,1.6,0.2,setosa\"\u001b[39m,\n",
       "  \u001b[32m\"4.8,3.1,1.6,0.2,setosa\"\u001b[39m,\n",
       "  \u001b[32m\"5.4,3.4,1.5,0.4,setosa\"\u001b[39m,\n",
       "  \u001b[32m\"5.2,4.1,1.5,0.1,setosa\"\u001b[39m,\n",
       "  \u001b[32m\"5.5,4.2,1.4,0.2,setosa\"\u001b[39m,\n",
       "  \u001b[32m\"4.9,3.1,1.5,0.1,setosa\"\u001b[39m,\n",
       "  \u001b[32m\"5.0,3.2,1.2,0.2,setosa\"\u001b[39m,\n",
       "  \u001b[32m\"5.5,3.5,1.3,0.2,setosa\"\u001b[39m,\n",
       "  \u001b[32m\"4.9,3.1,1.5,0.1,setosa\"\u001b[39m,\n",
       "..."
      ]
     },
     "execution_count": 5,
     "metadata": {},
     "output_type": "execute_result"
    }
   ],
   "source": [
    "val data = content.split('\\n').tail"
   ]
  },
  {
   "cell_type": "code",
   "execution_count": 6,
   "id": "intense-switzerland",
   "metadata": {},
   "outputs": [
    {
     "data": {
      "text/plain": [
       "\u001b[36my\u001b[39m: \u001b[32mArray\u001b[39m[\u001b[32mString\u001b[39m] = \u001b[33mArray\u001b[39m(\n",
       "  \u001b[32m\"setosa\"\u001b[39m,\n",
       "  \u001b[32m\"setosa\"\u001b[39m,\n",
       "  \u001b[32m\"setosa\"\u001b[39m,\n",
       "  \u001b[32m\"setosa\"\u001b[39m,\n",
       "  \u001b[32m\"setosa\"\u001b[39m,\n",
       "  \u001b[32m\"setosa\"\u001b[39m,\n",
       "  \u001b[32m\"setosa\"\u001b[39m,\n",
       "  \u001b[32m\"setosa\"\u001b[39m,\n",
       "  \u001b[32m\"setosa\"\u001b[39m,\n",
       "  \u001b[32m\"setosa\"\u001b[39m,\n",
       "  \u001b[32m\"setosa\"\u001b[39m,\n",
       "  \u001b[32m\"setosa\"\u001b[39m,\n",
       "  \u001b[32m\"setosa\"\u001b[39m,\n",
       "  \u001b[32m\"setosa\"\u001b[39m,\n",
       "  \u001b[32m\"setosa\"\u001b[39m,\n",
       "  \u001b[32m\"setosa\"\u001b[39m,\n",
       "  \u001b[32m\"setosa\"\u001b[39m,\n",
       "  \u001b[32m\"setosa\"\u001b[39m,\n",
       "  \u001b[32m\"setosa\"\u001b[39m,\n",
       "  \u001b[32m\"setosa\"\u001b[39m,\n",
       "  \u001b[32m\"setosa\"\u001b[39m,\n",
       "  \u001b[32m\"setosa\"\u001b[39m,\n",
       "  \u001b[32m\"setosa\"\u001b[39m,\n",
       "  \u001b[32m\"setosa\"\u001b[39m,\n",
       "  \u001b[32m\"setosa\"\u001b[39m,\n",
       "  \u001b[32m\"setosa\"\u001b[39m,\n",
       "  \u001b[32m\"setosa\"\u001b[39m,\n",
       "  \u001b[32m\"setosa\"\u001b[39m,\n",
       "  \u001b[32m\"setosa\"\u001b[39m,\n",
       "  \u001b[32m\"setosa\"\u001b[39m,\n",
       "  \u001b[32m\"setosa\"\u001b[39m,\n",
       "  \u001b[32m\"setosa\"\u001b[39m,\n",
       "  \u001b[32m\"setosa\"\u001b[39m,\n",
       "  \u001b[32m\"setosa\"\u001b[39m,\n",
       "  \u001b[32m\"setosa\"\u001b[39m,\n",
       "  \u001b[32m\"setosa\"\u001b[39m,\n",
       "  \u001b[32m\"setosa\"\u001b[39m,\n",
       "  \u001b[32m\"setosa\"\u001b[39m,\n",
       "..."
      ]
     },
     "execution_count": 6,
     "metadata": {},
     "output_type": "execute_result"
    }
   ],
   "source": [
    "val y = data.map(_.split(',').last)"
   ]
  },
  {
   "cell_type": "code",
   "execution_count": 7,
   "id": "unlimited-kennedy",
   "metadata": {},
   "outputs": [
    {
     "data": {
      "text/plain": [
       "\u001b[36mcategories\u001b[39m: \u001b[32mArray\u001b[39m[\u001b[32mString\u001b[39m] = \u001b[33mArray\u001b[39m(\u001b[32m\"setosa\"\u001b[39m, \u001b[32m\"versicolor\"\u001b[39m, \u001b[32m\"virginica\"\u001b[39m)"
      ]
     },
     "execution_count": 7,
     "metadata": {},
     "output_type": "execute_result"
    }
   ],
   "source": [
    "val categories = y.distinct"
   ]
  },
  {
   "cell_type": "code",
   "execution_count": 21,
   "id": "demonstrated-latitude",
   "metadata": {},
   "outputs": [
    {
     "data": {
      "text/plain": [
       "\u001b[36my_raw\u001b[39m: \u001b[32mArray\u001b[39m[\u001b[32mInt\u001b[39m] = \u001b[33mArray\u001b[39m(\n",
       "  \u001b[32m0\u001b[39m,\n",
       "  \u001b[32m0\u001b[39m,\n",
       "  \u001b[32m0\u001b[39m,\n",
       "  \u001b[32m0\u001b[39m,\n",
       "  \u001b[32m0\u001b[39m,\n",
       "  \u001b[32m0\u001b[39m,\n",
       "  \u001b[32m0\u001b[39m,\n",
       "  \u001b[32m0\u001b[39m,\n",
       "  \u001b[32m0\u001b[39m,\n",
       "  \u001b[32m0\u001b[39m,\n",
       "  \u001b[32m0\u001b[39m,\n",
       "  \u001b[32m0\u001b[39m,\n",
       "  \u001b[32m0\u001b[39m,\n",
       "  \u001b[32m0\u001b[39m,\n",
       "  \u001b[32m0\u001b[39m,\n",
       "  \u001b[32m0\u001b[39m,\n",
       "  \u001b[32m0\u001b[39m,\n",
       "  \u001b[32m0\u001b[39m,\n",
       "  \u001b[32m0\u001b[39m,\n",
       "  \u001b[32m0\u001b[39m,\n",
       "  \u001b[32m0\u001b[39m,\n",
       "  \u001b[32m0\u001b[39m,\n",
       "  \u001b[32m0\u001b[39m,\n",
       "  \u001b[32m0\u001b[39m,\n",
       "  \u001b[32m0\u001b[39m,\n",
       "  \u001b[32m0\u001b[39m,\n",
       "  \u001b[32m0\u001b[39m,\n",
       "  \u001b[32m0\u001b[39m,\n",
       "  \u001b[32m0\u001b[39m,\n",
       "  \u001b[32m0\u001b[39m,\n",
       "  \u001b[32m0\u001b[39m,\n",
       "  \u001b[32m0\u001b[39m,\n",
       "  \u001b[32m0\u001b[39m,\n",
       "  \u001b[32m0\u001b[39m,\n",
       "  \u001b[32m0\u001b[39m,\n",
       "  \u001b[32m0\u001b[39m,\n",
       "  \u001b[32m0\u001b[39m,\n",
       "  \u001b[32m0\u001b[39m,\n",
       "...\n",
       "\u001b[36my_ind\u001b[39m: \u001b[32mbreeze\u001b[39m.\u001b[32mlinalg\u001b[39m.\u001b[32mDenseVector\u001b[39m[\u001b[32mInt\u001b[39m] = DenseVector(0, 0, 0, 0, 0, 0, 0, 0, 0, 0, 0, 0, 0, 0, 0, 0, 0, 0, 0, 0, 0, 0, 0, 0, 0, 0, 0, 0, 0, 0, 0, 0, 0, 0, 0, 0, 0, 0, 0, 0, 0, 0, 0, 0, 0, 0, 0, 0, 0, 0, 1, 1, 1, 1, 1, 1, 1, 1, 1, 1, 1, 1, 1, 1, 1, 1, 1, 1, 1, 1, 1, 1, 1, 1, 1, 1, 1, 1, 1, 1, 1, 1, 1, 1, 1, 1, 1, 1, 1, 1, 1, 1, 1, 1, 1, 1, 1, 1, 1, 1, 2, 2, 2, 2, 2, 2, 2, 2, 2, 2, 2, 2, 2, 2, 2, 2, 2, 2, 2, 2, 2, 2, 2, 2, 2, 2, 2, 2, 2, 2, 2, 2, 2, 2, 2, 2, 2, 2, 2, 2, 2, 2, 2, 2, 2, 2, 2, 2, 2, 2)"
      ]
     },
     "execution_count": 21,
     "metadata": {},
     "output_type": "execute_result"
    }
   ],
   "source": [
    "val y_raw = y.map(x => categories.indexWhere(_ == x))\n",
    "val y_ind = breeze.linalg.DenseVector(y_raw:_*)"
   ]
  },
  {
   "cell_type": "code",
   "execution_count": 20,
   "id": "political-fifty",
   "metadata": {},
   "outputs": [
    {
     "data": {
      "text/plain": [
       "\u001b[36mXRaw\u001b[39m: \u001b[32mArray\u001b[39m[\u001b[32mArray\u001b[39m[\u001b[32mDouble\u001b[39m]] = \u001b[33mArray\u001b[39m(\n",
       "  \u001b[33mArray\u001b[39m(\u001b[32m1.0\u001b[39m, \u001b[32m5.1\u001b[39m, \u001b[32m3.5\u001b[39m, \u001b[32m1.4\u001b[39m, \u001b[32m0.2\u001b[39m),\n",
       "  \u001b[33mArray\u001b[39m(\u001b[32m1.0\u001b[39m, \u001b[32m4.9\u001b[39m, \u001b[32m3.0\u001b[39m, \u001b[32m1.4\u001b[39m, \u001b[32m0.2\u001b[39m),\n",
       "  \u001b[33mArray\u001b[39m(\u001b[32m1.0\u001b[39m, \u001b[32m4.7\u001b[39m, \u001b[32m3.2\u001b[39m, \u001b[32m1.3\u001b[39m, \u001b[32m0.2\u001b[39m),\n",
       "  \u001b[33mArray\u001b[39m(\u001b[32m1.0\u001b[39m, \u001b[32m4.6\u001b[39m, \u001b[32m3.1\u001b[39m, \u001b[32m1.5\u001b[39m, \u001b[32m0.2\u001b[39m),\n",
       "  \u001b[33mArray\u001b[39m(\u001b[32m1.0\u001b[39m, \u001b[32m5.0\u001b[39m, \u001b[32m3.6\u001b[39m, \u001b[32m1.4\u001b[39m, \u001b[32m0.2\u001b[39m),\n",
       "  \u001b[33mArray\u001b[39m(\u001b[32m1.0\u001b[39m, \u001b[32m5.4\u001b[39m, \u001b[32m3.9\u001b[39m, \u001b[32m1.7\u001b[39m, \u001b[32m0.4\u001b[39m),\n",
       "  \u001b[33mArray\u001b[39m(\u001b[32m1.0\u001b[39m, \u001b[32m4.6\u001b[39m, \u001b[32m3.4\u001b[39m, \u001b[32m1.4\u001b[39m, \u001b[32m0.3\u001b[39m),\n",
       "  \u001b[33mArray\u001b[39m(\u001b[32m1.0\u001b[39m, \u001b[32m5.0\u001b[39m, \u001b[32m3.4\u001b[39m, \u001b[32m1.5\u001b[39m, \u001b[32m0.2\u001b[39m),\n",
       "  \u001b[33mArray\u001b[39m(\u001b[32m1.0\u001b[39m, \u001b[32m4.4\u001b[39m, \u001b[32m2.9\u001b[39m, \u001b[32m1.4\u001b[39m, \u001b[32m0.2\u001b[39m),\n",
       "  \u001b[33mArray\u001b[39m(\u001b[32m1.0\u001b[39m, \u001b[32m4.9\u001b[39m, \u001b[32m3.1\u001b[39m, \u001b[32m1.5\u001b[39m, \u001b[32m0.1\u001b[39m),\n",
       "  \u001b[33mArray\u001b[39m(\u001b[32m1.0\u001b[39m, \u001b[32m5.4\u001b[39m, \u001b[32m3.7\u001b[39m, \u001b[32m1.5\u001b[39m, \u001b[32m0.2\u001b[39m),\n",
       "  \u001b[33mArray\u001b[39m(\u001b[32m1.0\u001b[39m, \u001b[32m4.8\u001b[39m, \u001b[32m3.4\u001b[39m, \u001b[32m1.6\u001b[39m, \u001b[32m0.2\u001b[39m),\n",
       "  \u001b[33mArray\u001b[39m(\u001b[32m1.0\u001b[39m, \u001b[32m4.8\u001b[39m, \u001b[32m3.0\u001b[39m, \u001b[32m1.4\u001b[39m, \u001b[32m0.1\u001b[39m),\n",
       "  \u001b[33mArray\u001b[39m(\u001b[32m1.0\u001b[39m, \u001b[32m4.3\u001b[39m, \u001b[32m3.0\u001b[39m, \u001b[32m1.1\u001b[39m, \u001b[32m0.1\u001b[39m),\n",
       "  \u001b[33mArray\u001b[39m(\u001b[32m1.0\u001b[39m, \u001b[32m5.8\u001b[39m, \u001b[32m4.0\u001b[39m, \u001b[32m1.2\u001b[39m, \u001b[32m0.2\u001b[39m),\n",
       "  \u001b[33mArray\u001b[39m(\u001b[32m1.0\u001b[39m, \u001b[32m5.7\u001b[39m, \u001b[32m4.4\u001b[39m, \u001b[32m1.5\u001b[39m, \u001b[32m0.4\u001b[39m),\n",
       "  \u001b[33mArray\u001b[39m(\u001b[32m1.0\u001b[39m, \u001b[32m5.4\u001b[39m, \u001b[32m3.9\u001b[39m, \u001b[32m1.3\u001b[39m, \u001b[32m0.4\u001b[39m),\n",
       "  \u001b[33mArray\u001b[39m(\u001b[32m1.0\u001b[39m, \u001b[32m5.1\u001b[39m, \u001b[32m3.5\u001b[39m, \u001b[32m1.4\u001b[39m, \u001b[32m0.3\u001b[39m),\n",
       "  \u001b[33mArray\u001b[39m(\u001b[32m1.0\u001b[39m, \u001b[32m5.7\u001b[39m, \u001b[32m3.8\u001b[39m, \u001b[32m1.7\u001b[39m, \u001b[32m0.3\u001b[39m),\n",
       "  \u001b[33mArray\u001b[39m(\u001b[32m1.0\u001b[39m, \u001b[32m5.1\u001b[39m, \u001b[32m3.8\u001b[39m, \u001b[32m1.5\u001b[39m, \u001b[32m0.3\u001b[39m),\n",
       "  \u001b[33mArray\u001b[39m(\u001b[32m1.0\u001b[39m, \u001b[32m5.4\u001b[39m, \u001b[32m3.4\u001b[39m, \u001b[32m1.7\u001b[39m, \u001b[32m0.2\u001b[39m),\n",
       "  \u001b[33mArray\u001b[39m(\u001b[32m1.0\u001b[39m, \u001b[32m5.1\u001b[39m, \u001b[32m3.7\u001b[39m, \u001b[32m1.5\u001b[39m, \u001b[32m0.4\u001b[39m),\n",
       "  \u001b[33mArray\u001b[39m(\u001b[32m1.0\u001b[39m, \u001b[32m4.6\u001b[39m, \u001b[32m3.6\u001b[39m, \u001b[32m1.0\u001b[39m, \u001b[32m0.2\u001b[39m),\n",
       "  \u001b[33mArray\u001b[39m(\u001b[32m1.0\u001b[39m, \u001b[32m5.1\u001b[39m, \u001b[32m3.3\u001b[39m, \u001b[32m1.7\u001b[39m, \u001b[32m0.5\u001b[39m),\n",
       "  \u001b[33mArray\u001b[39m(\u001b[32m1.0\u001b[39m, \u001b[32m4.8\u001b[39m, \u001b[32m3.4\u001b[39m, \u001b[32m1.9\u001b[39m, \u001b[32m0.2\u001b[39m),\n",
       "  \u001b[33mArray\u001b[39m(\u001b[32m1.0\u001b[39m, \u001b[32m5.0\u001b[39m, \u001b[32m3.0\u001b[39m, \u001b[32m1.6\u001b[39m, \u001b[32m0.2\u001b[39m),\n",
       "  \u001b[33mArray\u001b[39m(\u001b[32m1.0\u001b[39m, \u001b[32m5.0\u001b[39m, \u001b[32m3.4\u001b[39m, \u001b[32m1.6\u001b[39m, \u001b[32m0.4\u001b[39m),\n",
       "  \u001b[33mArray\u001b[39m(\u001b[32m1.0\u001b[39m, \u001b[32m5.2\u001b[39m, \u001b[32m3.5\u001b[39m, \u001b[32m1.5\u001b[39m, \u001b[32m0.2\u001b[39m),\n",
       "  \u001b[33mArray\u001b[39m(\u001b[32m1.0\u001b[39m, \u001b[32m5.2\u001b[39m, \u001b[32m3.4\u001b[39m, \u001b[32m1.4\u001b[39m, \u001b[32m0.2\u001b[39m),\n",
       "  \u001b[33mArray\u001b[39m(\u001b[32m1.0\u001b[39m, \u001b[32m4.7\u001b[39m, \u001b[32m3.2\u001b[39m, \u001b[32m1.6\u001b[39m, \u001b[32m0.2\u001b[39m),\n",
       "  \u001b[33mArray\u001b[39m(\u001b[32m1.0\u001b[39m, \u001b[32m4.8\u001b[39m, \u001b[32m3.1\u001b[39m, \u001b[32m1.6\u001b[39m, \u001b[32m0.2\u001b[39m),\n",
       "  \u001b[33mArray\u001b[39m(\u001b[32m1.0\u001b[39m, \u001b[32m5.4\u001b[39m, \u001b[32m3.4\u001b[39m, \u001b[32m1.5\u001b[39m, \u001b[32m0.4\u001b[39m),\n",
       "  \u001b[33mArray\u001b[39m(\u001b[32m1.0\u001b[39m, \u001b[32m5.2\u001b[39m, \u001b[32m4.1\u001b[39m, \u001b[32m1.5\u001b[39m, \u001b[32m0.1\u001b[39m),\n",
       "  \u001b[33mArray\u001b[39m(\u001b[32m1.0\u001b[39m, \u001b[32m5.5\u001b[39m, \u001b[32m4.2\u001b[39m, \u001b[32m1.4\u001b[39m, \u001b[32m0.2\u001b[39m),\n",
       "  \u001b[33mArray\u001b[39m(\u001b[32m1.0\u001b[39m, \u001b[32m4.9\u001b[39m, \u001b[32m3.1\u001b[39m, \u001b[32m1.5\u001b[39m, \u001b[32m0.1\u001b[39m),\n",
       "  \u001b[33mArray\u001b[39m(\u001b[32m1.0\u001b[39m, \u001b[32m5.0\u001b[39m, \u001b[32m3.2\u001b[39m, \u001b[32m1.2\u001b[39m, \u001b[32m0.2\u001b[39m),\n",
       "  \u001b[33mArray\u001b[39m(\u001b[32m1.0\u001b[39m, \u001b[32m5.5\u001b[39m, \u001b[32m3.5\u001b[39m, \u001b[32m1.3\u001b[39m, \u001b[32m0.2\u001b[39m),\n",
       "  \u001b[33mArray\u001b[39m(\u001b[32m1.0\u001b[39m, \u001b[32m4.9\u001b[39m, \u001b[32m3.1\u001b[39m, \u001b[32m1.5\u001b[39m, \u001b[32m0.1\u001b[39m),\n",
       "...\n",
       "\u001b[36mX\u001b[39m: \u001b[32mbreeze\u001b[39m.\u001b[32mlinalg\u001b[39m.\u001b[32mDenseMatrix\u001b[39m[\u001b[32mDouble\u001b[39m] = 1.0  5.1  3.5  1.4  0.2  \n",
       "1.0  4.9  3.0  1.4  0.2  \n",
       "1.0  4.7  3.2  1.3  0.2  \n",
       "1.0  4.6  3.1  1.5  0.2  \n",
       "1.0  5.0  3.6  1.4  0.2  \n",
       "1.0  5.4  3.9  1.7  0.4  \n",
       "1.0  4.6  3.4  1.4  0.3  \n",
       "1.0  5.0  3.4  1.5  0.2  \n",
       "1.0  4.4  2.9  1.4  0.2  \n",
       "1.0  4.9  3.1  1.5  0.1  \n",
       "1.0  5.4  3.7  1.5  0.2  \n",
       "1.0  4.8  3.4  1.6  0.2  \n",
       "1.0  4.8  3.0  1.4  0.1  \n",
       "1.0  4.3  3.0  1.1  0.1  \n",
       "1.0  5.8  4.0  1.2  0.2  \n",
       "1.0  5.7  4.4  1.5  0.4  \n",
       "1.0  5.4  3.9  1.3  0.4  \n",
       "1.0  5.1  3.5  1.4  0.3  \n",
       "1.0  5.7  3.8  1.7  0.3  \n",
       "1.0  5.1  3.8  1.5  0.3  \n",
       "1.0  5.4  3.4  1.7  0.2  \n",
       "1.0  5.1  3.7  1.5  0.4  \n",
       "1.0  4.6  3.6  1.0  0.2  \n",
       "1.0  5.1  3.3  1.7  0.5  \n",
       "1.0  4.8  3.4  1.9  0.2  \n",
       "1.0  5.0  3.0  1.6  0.2  \n",
       "1.0  5.0  3.4  1.6  0.4  \n",
       "1.0  5.2  3.5  1.5  0.2  \n",
       "1.0  5.2  3.4  1.4  0.2  \n",
       "1.0  4.7  3.2  1.6  0.2  \n",
       "1.0  4.8  3.1  1.6  0.2  \n",
       "1.0  5.4  3.4  1.5  0.4  \n",
       "1.0  5.2  4.1  1.5  0.1  \n",
       "1.0  5.5  4.2  1.4  0.2  \n",
       "1.0  4.9  3.1  1.5  0.1  \n",
       "1.0  5.0  3.2  1.2  0.2  \n",
       "1.0  5.5  3.5  1.3  0.2  \n",
       "1.0  4.9  3.1  1.5  0.1  \n",
       "1.0  4.4  3.0  1.3  0.2  \n",
       "..."
      ]
     },
     "execution_count": 20,
     "metadata": {},
     "output_type": "execute_result"
    }
   ],
   "source": [
    "val XRaw = data.map(1.0 +: _.split(',').init.map(_.toDouble))\n",
    "val X = breeze.linalg.DenseMatrix(XRaw:_*)"
   ]
  },
  {
   "cell_type": "code",
   "execution_count": 12,
   "id": "august-oracle",
   "metadata": {},
   "outputs": [
    {
     "data": {
      "text/plain": [
       "\u001b[36mtest_ratio\u001b[39m: \u001b[32mDouble\u001b[39m = \u001b[32m0.2\u001b[39m\n",
       "\u001b[36mvalidation_ratio\u001b[39m: \u001b[32mDouble\u001b[39m = \u001b[32m0.2\u001b[39m\n",
       "\u001b[36mtotal_size\u001b[39m: \u001b[32mInt\u001b[39m = \u001b[32m150\u001b[39m\n",
       "\u001b[36mtest_size\u001b[39m: \u001b[32mInt\u001b[39m = \u001b[32m30\u001b[39m\n",
       "\u001b[36mvalidation_size\u001b[39m: \u001b[32mInt\u001b[39m = \u001b[32m30\u001b[39m\n",
       "\u001b[36mtrain_size\u001b[39m: \u001b[32mInt\u001b[39m = \u001b[32m90\u001b[39m"
      ]
     },
     "execution_count": 12,
     "metadata": {},
     "output_type": "execute_result"
    }
   ],
   "source": [
    "val test_ratio = 0.2\n",
    "val validation_ratio = 0.2\n",
    "val total_size = X.length\n",
    "\n",
    "val test_size = (total_size * test_ratio).toInt\n",
    "val validation_size = (total_size * validation_ratio).toInt\n",
    "val train_size = total_size - test_size - validation_size"
   ]
  },
  {
   "cell_type": "code",
   "execution_count": 22,
   "id": "direct-program",
   "metadata": {},
   "outputs": [
    {
     "data": {
      "text/plain": [
       "\u001b[36mrnd_inds\u001b[39m: \u001b[32mList\u001b[39m[\u001b[32mInt\u001b[39m] = \u001b[33mList\u001b[39m(\n",
       "  \u001b[32m31\u001b[39m,\n",
       "  \u001b[32m9\u001b[39m,\n",
       "  \u001b[32m14\u001b[39m,\n",
       "  \u001b[32m148\u001b[39m,\n",
       "  \u001b[32m17\u001b[39m,\n",
       "  \u001b[32m59\u001b[39m,\n",
       "  \u001b[32m125\u001b[39m,\n",
       "  \u001b[32m90\u001b[39m,\n",
       "  \u001b[32m21\u001b[39m,\n",
       "  \u001b[32m122\u001b[39m,\n",
       "  \u001b[32m84\u001b[39m,\n",
       "  \u001b[32m15\u001b[39m,\n",
       "  \u001b[32m141\u001b[39m,\n",
       "  \u001b[32m138\u001b[39m,\n",
       "  \u001b[32m143\u001b[39m,\n",
       "  \u001b[32m96\u001b[39m,\n",
       "  \u001b[32m38\u001b[39m,\n",
       "  \u001b[32m115\u001b[39m,\n",
       "  \u001b[32m68\u001b[39m,\n",
       "  \u001b[32m63\u001b[39m,\n",
       "  \u001b[32m60\u001b[39m,\n",
       "  \u001b[32m85\u001b[39m,\n",
       "  \u001b[32m19\u001b[39m,\n",
       "  \u001b[32m129\u001b[39m,\n",
       "  \u001b[32m97\u001b[39m,\n",
       "  \u001b[32m46\u001b[39m,\n",
       "  \u001b[32m26\u001b[39m,\n",
       "  \u001b[32m114\u001b[39m,\n",
       "  \u001b[32m102\u001b[39m,\n",
       "  \u001b[32m133\u001b[39m,\n",
       "  \u001b[32m33\u001b[39m,\n",
       "  \u001b[32m69\u001b[39m,\n",
       "  \u001b[32m101\u001b[39m,\n",
       "  \u001b[32m45\u001b[39m,\n",
       "  \u001b[32m65\u001b[39m,\n",
       "  \u001b[32m137\u001b[39m,\n",
       "  \u001b[32m0\u001b[39m,\n",
       "  \u001b[32m120\u001b[39m,\n",
       "...\n",
       "\u001b[36mrnd_indices\u001b[39m: \u001b[32mbreeze\u001b[39m.\u001b[32mlinalg\u001b[39m.\u001b[32mDenseVector\u001b[39m[\u001b[32mInt\u001b[39m] = DenseVector(31, 9, 14, 148, 17, 59, 125, 90, 21, 122, 84, 15, 141, 138, 143, 96, 38, 115, 68, 63, 60, 85, 19, 129, 97, 46, 26, 114, 102, 133, 33, 69, 101, 45, 65, 137, 0, 120, 61, 104, 131, 16, 67, 83, 94, 10, 56, 52, 28, 75, 86, 146, 43, 4, 98, 73, 64, 144, 44, 58, 95, 23, 124, 41, 25, 147, 78, 103, 149, 110, 1, 49, 132, 135, 34, 121, 39, 27, 32, 3, 89, 76, 92, 118, 88, 142, 145, 22, 93, 108, 24, 136, 20, 54, 99, 72, 55, 50, 91, 105, 7, 140, 48, 81, 87, 109, 29, 70, 12, 35, 127, 82, 6, 126, 77, 30, 119, 116, 128, 5, 36, 8, 123, 13, 40, 117, 113, 53, 57, 80, 130, 74, 79, 51, 71, 18, 37, 107, 106, 2, 42, 66, 111, 100, 62, 134, 139, 47, 112, 11)"
      ]
     },
     "execution_count": 22,
     "metadata": {},
     "output_type": "execute_result"
    }
   ],
   "source": [
    "val rnd_inds = Random.shuffle((0 until total_size).toList)\n",
    "val rnd_indices = breeze.linalg.DenseVector(rnd_inds:_*)"
   ]
  },
  {
   "cell_type": "code",
   "execution_count": 44,
   "id": "shaped-distance",
   "metadata": {},
   "outputs": [
    {
     "data": {
      "text/plain": [
       "\u001b[36mtrainIndices\u001b[39m: \u001b[32mbreeze\u001b[39m.\u001b[32mlinalg\u001b[39m.\u001b[32mDenseVector\u001b[39m[\u001b[32mInt\u001b[39m] = DenseVector(31, 9, 14, 148, 17, 59, 125, 90, 21, 122, 84, 15, 141, 138, 143, 96, 38, 115, 68, 63, 60, 85, 19, 129, 97, 46, 26, 114, 102, 133, 33, 69, 101, 45, 65, 137, 0, 120, 61, 104, 131, 16, 67, 83, 94, 10, 56, 52, 28, 75, 86, 146, 43, 4, 98, 73, 64, 144, 44, 58, 95, 23, 124, 41, 25, 147, 78, 103, 149, 110, 1, 49, 132, 135, 34, 121, 39, 27, 32, 3, 89, 76, 92, 118, 88, 142, 145, 22, 93, 108)\n",
       "\u001b[36mtestIndices\u001b[39m: \u001b[32mbreeze\u001b[39m.\u001b[32mlinalg\u001b[39m.\u001b[32mDenseVector\u001b[39m[\u001b[32mInt\u001b[39m] = DenseVector(24, 136, 20, 54, 99, 72, 55, 50, 91, 105, 7, 140, 48, 81, 87, 109, 29, 70, 12, 35, 127, 82, 6, 126, 77, 30, 119, 116, 128, 5)\n",
       "\u001b[36mvalIndices\u001b[39m: \u001b[32mbreeze\u001b[39m.\u001b[32mlinalg\u001b[39m.\u001b[32mDenseVector\u001b[39m[\u001b[32mInt\u001b[39m] = DenseVector(36, 8, 123, 13, 40, 117, 113, 53, 57, 80, 130, 74, 79, 51, 71, 18, 37, 107, 106, 2, 42, 66, 111, 100, 62, 134, 139, 47, 112, 11)"
      ]
     },
     "execution_count": 44,
     "metadata": {},
     "output_type": "execute_result"
    }
   ],
   "source": [
    "val trainIndices = rnd_indices(0 until train_size)\n",
    "val testIndices = rnd_indices(train_size until train_size + test_size)\n",
    "val valIndices = rnd_indices(total_size - validation_size until total_size)"
   ]
  },
  {
   "cell_type": "code",
   "execution_count": 56,
   "id": "becoming-architect",
   "metadata": {},
   "outputs": [
    {
     "data": {
      "text/plain": [
       "\u001b[36mres55\u001b[39m: \u001b[32mInt\u001b[39m = \u001b[32m5\u001b[39m"
      ]
     },
     "execution_count": 56,
     "metadata": {},
     "output_type": "execute_result"
    }
   ],
   "source": [
    "X(trainIndices.toArray.toList, ::).toDenseMatrix.cols"
   ]
  },
  {
   "cell_type": "code",
   "execution_count": 61,
   "id": "eight-negative",
   "metadata": {},
   "outputs": [
    {
     "data": {
      "text/plain": [
       "\u001b[36mres60\u001b[39m: \u001b[32mbreeze\u001b[39m.\u001b[32mlinalg\u001b[39m.\u001b[32mDenseMatrix\u001b[39m[\u001b[32mDouble\u001b[39m] = 1.0  4.8  3.4  1.9  0.2  \n",
       "1.0  6.3  3.4  5.6  2.4  \n",
       "1.0  5.4  3.4  1.7  0.2  \n",
       "1.0  6.5  2.8  4.6  1.5  \n",
       "1.0  5.7  2.8  4.1  1.3  \n",
       "1.0  6.3  2.5  4.9  1.5  \n",
       "1.0  5.7  2.8  4.5  1.3  \n",
       "1.0  7.0  3.2  4.7  1.4  \n",
       "1.0  6.1  3.0  4.6  1.4  \n",
       "1.0  7.6  3.0  6.6  2.1  \n",
       "1.0  5.0  3.4  1.5  0.2  \n",
       "1.0  6.7  3.1  5.6  2.4  \n",
       "1.0  5.3  3.7  1.5  0.2  \n",
       "1.0  5.5  2.4  3.7  1.0  \n",
       "1.0  6.3  2.3  4.4  1.3  \n",
       "1.0  7.2  3.6  6.1  2.5  \n",
       "1.0  4.7  3.2  1.6  0.2  \n",
       "1.0  5.9  3.2  4.8  1.8  \n",
       "1.0  4.8  3.0  1.4  0.1  \n",
       "1.0  5.0  3.2  1.2  0.2  \n",
       "1.0  6.1  3.0  4.9  1.8  \n",
       "1.0  5.8  2.7  3.9  1.2  \n",
       "1.0  4.6  3.4  1.4  0.3  \n",
       "1.0  6.2  2.8  4.8  1.8  \n",
       "1.0  6.7  3.0  5.0  1.7  \n",
       "1.0  4.8  3.1  1.6  0.2  \n",
       "1.0  6.0  2.2  5.0  1.5  \n",
       "1.0  6.5  3.0  5.5  1.8  \n",
       "1.0  6.4  2.8  5.6  2.1  \n",
       "1.0  5.4  3.9  1.7  0.4  "
      ]
     },
     "execution_count": 61,
     "metadata": {},
     "output_type": "execute_result"
    }
   ],
   "source": [
    "X(testIndices.toArray.toList, ::).toDenseMatrix"
   ]
  },
  {
   "cell_type": "code",
   "execution_count": 62,
   "id": "romantic-purchase",
   "metadata": {},
   "outputs": [
    {
     "data": {
      "text/plain": [
       "\u001b[36mX_train\u001b[39m: \u001b[32mbreeze\u001b[39m.\u001b[32mlinalg\u001b[39m.\u001b[32mDenseMatrix\u001b[39m[\u001b[32mDouble\u001b[39m] = 1.0  5.4  3.4  1.5  0.4  \n",
       "1.0  4.9  3.1  1.5  0.1  \n",
       "1.0  5.8  4.0  1.2  0.2  \n",
       "1.0  6.2  3.4  5.4  2.3  \n",
       "1.0  5.1  3.5  1.4  0.3  \n",
       "1.0  5.2  2.7  3.9  1.4  \n",
       "1.0  7.2  3.2  6.0  1.8  \n",
       "1.0  5.5  2.6  4.4  1.2  \n",
       "1.0  5.1  3.7  1.5  0.4  \n",
       "1.0  7.7  2.8  6.7  2.0  \n",
       "1.0  5.4  3.0  4.5  1.5  \n",
       "1.0  5.7  4.4  1.5  0.4  \n",
       "1.0  6.9  3.1  5.1  2.3  \n",
       "1.0  6.0  3.0  4.8  1.8  \n",
       "1.0  6.8  3.2  5.9  2.3  \n",
       "1.0  5.7  2.9  4.2  1.3  \n",
       "1.0  4.4  3.0  1.3  0.2  \n",
       "1.0  6.4  3.2  5.3  2.3  \n",
       "1.0  6.2  2.2  4.5  1.5  \n",
       "1.0  6.1  2.9  4.7  1.4  \n",
       "1.0  5.0  2.0  3.5  1.0  \n",
       "1.0  6.0  3.4  4.5  1.6  \n",
       "1.0  5.1  3.8  1.5  0.3  \n",
       "1.0  7.2  3.0  5.8  1.6  \n",
       "1.0  6.2  2.9  4.3  1.3  \n",
       "1.0  5.1  3.8  1.6  0.2  \n",
       "1.0  5.0  3.4  1.6  0.4  \n",
       "1.0  5.8  2.8  5.1  2.4  \n",
       "1.0  7.1  3.0  5.9  2.1  \n",
       "1.0  6.3  2.8  5.1  1.5  \n",
       "1.0  5.5  4.2  1.4  0.2  \n",
       "1.0  5.6  2.5  3.9  1.1  \n",
       "1.0  5.8  2.7  5.1  1.9  \n",
       "1.0  4.8  3.0  1.4  0.3  \n",
       "1.0  6.7  3.1  4.4  1.4  \n",
       "1.0  6.4  3.1  5.5  1.8  \n",
       "1.0  5.1  3.5  1.4  0.2  \n",
       "1.0  6.9  3.2  5.7  2.3  \n",
       "1.0  5.9  3.0  4.2  1.5  \n",
       "...\n",
       "\u001b[36my_train\u001b[39m: \u001b[32mbreeze\u001b[39m.\u001b[32mlinalg\u001b[39m.\u001b[32mDenseVector\u001b[39m[\u001b[32mInt\u001b[39m] = DenseVector(0, 0, 0, 2, 0, 1, 2, 1, 0, 2, 1, 0, 2, 2, 2, 1, 0, 2, 1, 1, 1, 1, 0, 2, 1, 0, 0, 2, 2, 2, 0, 1, 2, 0, 1, 2, 0, 2, 1, 2, 2, 0, 1, 1, 1, 0, 1, 1, 0, 1, 1, 2, 0, 0, 1, 1, 1, 2, 0, 1, 1, 0, 2, 0, 0, 2, 1, 2, 2, 2, 0, 0, 2, 2, 0, 2, 0, 0, 0, 0, 1, 1, 1, 2, 1, 2, 2, 0, 1, 2)\n",
       "\u001b[36mX_valid\u001b[39m: \u001b[32mbreeze\u001b[39m.\u001b[32mlinalg\u001b[39m.\u001b[32mDenseMatrix\u001b[39m[\u001b[32mDouble\u001b[39m] = 1.0  5.5  3.5  1.3  0.2  \n",
       "1.0  4.4  2.9  1.4  0.2  \n",
       "1.0  6.3  2.7  4.9  1.8  \n",
       "1.0  4.3  3.0  1.1  0.1  \n",
       "1.0  5.0  3.5  1.3  0.3  \n",
       "1.0  7.7  3.8  6.7  2.2  \n",
       "1.0  5.7  2.5  5.0  2.0  \n",
       "1.0  5.5  2.3  4.0  1.3  \n",
       "1.0  4.9  2.4  3.3  1.0  \n",
       "1.0  5.5  2.4  3.8  1.1  \n",
       "1.0  7.4  2.8  6.1  1.9  \n",
       "1.0  6.4  2.9  4.3  1.3  \n",
       "1.0  5.7  2.6  3.5  1.0  \n",
       "1.0  6.4  3.2  4.5  1.5  \n",
       "1.0  6.1  2.8  4.0  1.3  \n",
       "1.0  5.7  3.8  1.7  0.3  \n",
       "1.0  4.9  3.1  1.5  0.1  \n",
       "1.0  7.3  2.9  6.3  1.8  \n",
       "1.0  4.9  2.5  4.5  1.7  \n",
       "1.0  4.7  3.2  1.3  0.2  \n",
       "1.0  4.4  3.2  1.3  0.2  \n",
       "1.0  5.6  3.0  4.5  1.5  \n",
       "1.0  6.4  2.7  5.3  1.9  \n",
       "1.0  6.3  3.3  6.0  2.5  \n",
       "1.0  6.0  2.2  4.0  1.0  \n",
       "1.0  6.1  2.6  5.6  1.4  \n",
       "1.0  6.9  3.1  5.4  2.1  \n",
       "1.0  4.6  3.2  1.4  0.2  \n",
       "1.0  6.8  3.0  5.5  2.1  \n",
       "1.0  4.8  3.4  1.6  0.2  \n",
       "\u001b[36my_valid\u001b[39m: \u001b[32mbreeze\u001b[39m.\u001b[32mlinalg\u001b[39m.\u001b[32mDenseVector\u001b[39m[\u001b[32mInt\u001b[39m] = DenseVector(0, 0, 2, 0, 0, 2, 2, 1, 1, 1, 2, 1, 1, 1, 1, 0, 0, 2, 2, 0, 0, 1, 2, 2, 1, 2, 2, 0, 2, 0)\n",
       "\u001b[36mX_test\u001b[39m: \u001b[32mbreeze\u001b[39m.\u001b[32mlinalg\u001b[39m.\u001b[32mDenseMatrix\u001b[39m[\u001b[32mDouble\u001b[39m] = 1.0  4.8  3.4  1.9  0.2  \n",
       "1.0  6.3  3.4  5.6  2.4  \n",
       "1.0  5.4  3.4  1.7  0.2  \n",
       "1.0  6.5  2.8  4.6  1.5  \n",
       "1.0  5.7  2.8  4.1  1.3  \n",
       "1.0  6.3  2.5  4.9  1.5  \n",
       "1.0  5.7  2.8  4.5  1.3  \n",
       "1.0  7.0  3.2  4.7  1.4  \n",
       "1.0  6.1  3.0  4.6  1.4  \n",
       "1.0  7.6  3.0  6.6  2.1  \n",
       "1.0  5.0  3.4  1.5  0.2  \n",
       "1.0  6.7  3.1  5.6  2.4  \n",
       "1.0  5.3  3.7  1.5  0.2  \n",
       "1.0  5.5  2.4  3.7  1.0  \n",
       "1.0  6.3  2.3  4.4  1.3  \n",
       "1.0  7.2  3.6  6.1  2.5  \n",
       "1.0  4.7  3.2  1.6  0.2  \n",
       "1.0  5.9  3.2  4.8  1.8  \n",
       "1.0  4.8  3.0  1.4  0.1  \n",
       "1.0  5.0  3.2  1.2  0.2  \n",
       "1.0  6.1  3.0  4.9  1.8  \n",
       "1.0  5.8  2.7  3.9  1.2  \n",
       "1.0  4.6  3.4  1.4  0.3  \n",
       "1.0  6.2  2.8  4.8  1.8  \n",
       "1.0  6.7  3.0  5.0  1.7  \n",
       "1.0  4.8  3.1  1.6  0.2  \n",
       "1.0  6.0  2.2  5.0  1.5  \n",
       "1.0  6.5  3.0  5.5  1.8  \n",
       "1.0  6.4  2.8  5.6  2.1  \n",
       "1.0  5.4  3.9  1.7  0.4  \n",
       "\u001b[36my_test\u001b[39m: \u001b[32mbreeze\u001b[39m.\u001b[32mlinalg\u001b[39m.\u001b[32mDenseVector\u001b[39m[\u001b[32mInt\u001b[39m] = DenseVector(0, 2, 0, 1, 1, 1, 1, 1, 1, 2, 0, 2, 0, 1, 1, 2, 0, 1, 0, 0, 2, 1, 0, 2, 1, 0, 2, 2, 2, 0)"
      ]
     },
     "execution_count": 62,
     "metadata": {},
     "output_type": "execute_result"
    }
   ],
   "source": [
    "val X_train = X(trainIndices.toArray.toList, ::).toDenseMatrix\n",
    "val y_train = y_ind(trainIndices.toArray.toList).toDenseVector\n",
    "val X_valid = X(valIndices.toArray.toList, ::).toDenseMatrix\n",
    "val y_valid = y_ind(valIndices.toArray.toList).toDenseVector\n",
    "val X_test = X(testIndices.toArray.toList, ::).toDenseMatrix\n",
    "val y_test = y_ind(testIndices.toArray.toList).toDenseVector"
   ]
  },
  {
   "cell_type": "code",
   "execution_count": 82,
   "id": "narrative-wisdom",
   "metadata": {},
   "outputs": [
    {
     "data": {
      "text/plain": [
       "\u001b[36ma\u001b[39m: \u001b[32mArray\u001b[39m[\u001b[32mArray\u001b[39m[\u001b[32mInt\u001b[39m]] = \u001b[33mArray\u001b[39m(\n",
       "  \u001b[33mArray\u001b[39m(\u001b[32m1\u001b[39m, \u001b[32m0\u001b[39m, \u001b[32m0\u001b[39m),\n",
       "  \u001b[33mArray\u001b[39m(\u001b[32m1\u001b[39m, \u001b[32m0\u001b[39m, \u001b[32m0\u001b[39m),\n",
       "  \u001b[33mArray\u001b[39m(\u001b[32m1\u001b[39m, \u001b[32m0\u001b[39m, \u001b[32m0\u001b[39m),\n",
       "  \u001b[33mArray\u001b[39m(\u001b[32m0\u001b[39m, \u001b[32m0\u001b[39m, \u001b[32m1\u001b[39m),\n",
       "  \u001b[33mArray\u001b[39m(\u001b[32m1\u001b[39m, \u001b[32m0\u001b[39m, \u001b[32m0\u001b[39m),\n",
       "  \u001b[33mArray\u001b[39m(\u001b[32m0\u001b[39m, \u001b[32m1\u001b[39m, \u001b[32m0\u001b[39m),\n",
       "  \u001b[33mArray\u001b[39m(\u001b[32m0\u001b[39m, \u001b[32m0\u001b[39m, \u001b[32m1\u001b[39m),\n",
       "  \u001b[33mArray\u001b[39m(\u001b[32m0\u001b[39m, \u001b[32m1\u001b[39m, \u001b[32m0\u001b[39m),\n",
       "  \u001b[33mArray\u001b[39m(\u001b[32m1\u001b[39m, \u001b[32m0\u001b[39m, \u001b[32m0\u001b[39m),\n",
       "  \u001b[33mArray\u001b[39m(\u001b[32m0\u001b[39m, \u001b[32m0\u001b[39m, \u001b[32m1\u001b[39m),\n",
       "  \u001b[33mArray\u001b[39m(\u001b[32m0\u001b[39m, \u001b[32m1\u001b[39m, \u001b[32m0\u001b[39m),\n",
       "  \u001b[33mArray\u001b[39m(\u001b[32m1\u001b[39m, \u001b[32m0\u001b[39m, \u001b[32m0\u001b[39m),\n",
       "  \u001b[33mArray\u001b[39m(\u001b[32m0\u001b[39m, \u001b[32m0\u001b[39m, \u001b[32m1\u001b[39m),\n",
       "  \u001b[33mArray\u001b[39m(\u001b[32m0\u001b[39m, \u001b[32m0\u001b[39m, \u001b[32m1\u001b[39m),\n",
       "  \u001b[33mArray\u001b[39m(\u001b[32m0\u001b[39m, \u001b[32m0\u001b[39m, \u001b[32m1\u001b[39m),\n",
       "  \u001b[33mArray\u001b[39m(\u001b[32m0\u001b[39m, \u001b[32m1\u001b[39m, \u001b[32m0\u001b[39m),\n",
       "  \u001b[33mArray\u001b[39m(\u001b[32m1\u001b[39m, \u001b[32m0\u001b[39m, \u001b[32m0\u001b[39m),\n",
       "  \u001b[33mArray\u001b[39m(\u001b[32m0\u001b[39m, \u001b[32m0\u001b[39m, \u001b[32m1\u001b[39m),\n",
       "  \u001b[33mArray\u001b[39m(\u001b[32m0\u001b[39m, \u001b[32m1\u001b[39m, \u001b[32m0\u001b[39m),\n",
       "  \u001b[33mArray\u001b[39m(\u001b[32m0\u001b[39m, \u001b[32m1\u001b[39m, \u001b[32m0\u001b[39m),\n",
       "  \u001b[33mArray\u001b[39m(\u001b[32m0\u001b[39m, \u001b[32m1\u001b[39m, \u001b[32m0\u001b[39m),\n",
       "  \u001b[33mArray\u001b[39m(\u001b[32m0\u001b[39m, \u001b[32m1\u001b[39m, \u001b[32m0\u001b[39m),\n",
       "  \u001b[33mArray\u001b[39m(\u001b[32m1\u001b[39m, \u001b[32m0\u001b[39m, \u001b[32m0\u001b[39m),\n",
       "  \u001b[33mArray\u001b[39m(\u001b[32m0\u001b[39m, \u001b[32m0\u001b[39m, \u001b[32m1\u001b[39m),\n",
       "  \u001b[33mArray\u001b[39m(\u001b[32m0\u001b[39m, \u001b[32m1\u001b[39m, \u001b[32m0\u001b[39m),\n",
       "  \u001b[33mArray\u001b[39m(\u001b[32m1\u001b[39m, \u001b[32m0\u001b[39m, \u001b[32m0\u001b[39m),\n",
       "  \u001b[33mArray\u001b[39m(\u001b[32m1\u001b[39m, \u001b[32m0\u001b[39m, \u001b[32m0\u001b[39m),\n",
       "  \u001b[33mArray\u001b[39m(\u001b[32m0\u001b[39m, \u001b[32m0\u001b[39m, \u001b[32m1\u001b[39m),\n",
       "  \u001b[33mArray\u001b[39m(\u001b[32m0\u001b[39m, \u001b[32m0\u001b[39m, \u001b[32m1\u001b[39m),\n",
       "  \u001b[33mArray\u001b[39m(\u001b[32m0\u001b[39m, \u001b[32m0\u001b[39m, \u001b[32m1\u001b[39m),\n",
       "  \u001b[33mArray\u001b[39m(\u001b[32m1\u001b[39m, \u001b[32m0\u001b[39m, \u001b[32m0\u001b[39m),\n",
       "  \u001b[33mArray\u001b[39m(\u001b[32m0\u001b[39m, \u001b[32m1\u001b[39m, \u001b[32m0\u001b[39m),\n",
       "  \u001b[33mArray\u001b[39m(\u001b[32m0\u001b[39m, \u001b[32m0\u001b[39m, \u001b[32m1\u001b[39m),\n",
       "  \u001b[33mArray\u001b[39m(\u001b[32m1\u001b[39m, \u001b[32m0\u001b[39m, \u001b[32m0\u001b[39m),\n",
       "  \u001b[33mArray\u001b[39m(\u001b[32m0\u001b[39m, \u001b[32m1\u001b[39m, \u001b[32m0\u001b[39m),\n",
       "  \u001b[33mArray\u001b[39m(\u001b[32m0\u001b[39m, \u001b[32m0\u001b[39m, \u001b[32m1\u001b[39m),\n",
       "  \u001b[33mArray\u001b[39m(\u001b[32m1\u001b[39m, \u001b[32m0\u001b[39m, \u001b[32m0\u001b[39m),\n",
       "  \u001b[33mArray\u001b[39m(\u001b[32m0\u001b[39m, \u001b[32m0\u001b[39m, \u001b[32m1\u001b[39m),\n",
       "..."
      ]
     },
     "execution_count": 82,
     "metadata": {},
     "output_type": "execute_result"
    }
   ],
   "source": [
    "val a = y_train.map(i => (0 until 3).map(x => if (x == i) 1 else 0).toArray).toArray"
   ]
  },
  {
   "cell_type": "code",
   "execution_count": 85,
   "id": "continuous-burns",
   "metadata": {},
   "outputs": [
    {
     "data": {
      "text/plain": [
       "\u001b[36mb\u001b[39m: \u001b[32mbreeze\u001b[39m.\u001b[32mlinalg\u001b[39m.\u001b[32mDenseMatrix\u001b[39m[\u001b[32mInt\u001b[39m] = 1  0  0  \n",
       "1  0  0  \n",
       "1  0  0  \n",
       "0  0  1  \n",
       "1  0  0  \n",
       "0  1  0  \n",
       "0  0  1  \n",
       "0  1  0  \n",
       "1  0  0  \n",
       "0  0  1  \n",
       "0  1  0  \n",
       "1  0  0  \n",
       "0  0  1  \n",
       "0  0  1  \n",
       "0  0  1  \n",
       "0  1  0  \n",
       "1  0  0  \n",
       "0  0  1  \n",
       "0  1  0  \n",
       "0  1  0  \n",
       "0  1  0  \n",
       "0  1  0  \n",
       "1  0  0  \n",
       "0  0  1  \n",
       "0  1  0  \n",
       "1  0  0  \n",
       "1  0  0  \n",
       "0  0  1  \n",
       "0  0  1  \n",
       "0  0  1  \n",
       "1  0  0  \n",
       "0  1  0  \n",
       "0  0  1  \n",
       "1  0  0  \n",
       "0  1  0  \n",
       "0  0  1  \n",
       "1  0  0  \n",
       "0  0  1  \n",
       "0  1  0  \n",
       "..."
      ]
     },
     "execution_count": 85,
     "metadata": {},
     "output_type": "execute_result"
    }
   ],
   "source": [
    "val b = breeze.linalg.DenseMatrix(a:_*)"
   ]
  },
  {
   "cell_type": "code",
   "execution_count": 84,
   "id": "reverse-dining",
   "metadata": {},
   "outputs": [
    {
     "name": "stderr",
     "output_type": "stream",
     "text": [
      "cmd84.sc:1: could not find implicit value for parameter canSlice: breeze.linalg.support.CanSlice[breeze.linalg.DenseMatrix[Array[Int]],Int,Result]\n",
      "val res84 = b(1)\n",
      "             ^Compilation Failed"
     ]
    },
    {
     "ename": "",
     "evalue": "",
     "output_type": "error",
     "traceback": [
      "Compilation Failed"
     ]
    }
   ],
   "source": [
    "b(1, 1)"
   ]
  },
  {
   "cell_type": "code",
   "execution_count": 74,
   "id": "bulgarian-algorithm",
   "metadata": {},
   "outputs": [
    {
     "data": {
      "text/plain": [
       "\u001b[36mres73\u001b[39m: \u001b[32mList\u001b[39m[\u001b[32mInt\u001b[39m] = \u001b[33mList\u001b[39m(\u001b[32m0\u001b[39m, \u001b[32m1\u001b[39m, \u001b[32m0\u001b[39m)"
      ]
     },
     "execution_count": 74,
     "metadata": {},
     "output_type": "execute_result"
    }
   ],
   "source": [
    "(0 until 3).map(x => if (x == 1) 1 else 0).toList"
   ]
  },
  {
   "cell_type": "code",
   "execution_count": 309,
   "id": "indoor-thailand",
   "metadata": {},
   "outputs": [
    {
     "data": {
      "text/plain": [
       "defined \u001b[32mfunction\u001b[39m \u001b[36mtoOneHot\u001b[39m"
      ]
     },
     "execution_count": 309,
     "metadata": {},
     "output_type": "execute_result"
    }
   ],
   "source": [
    "def toOneHot(y: breeze.linalg.DenseVector[Int]): breeze.linalg.DenseMatrix[Double] = {\n",
    "    val nClasses = y.max + 1\n",
    "    val oneHot = y.map(i => (0 until 3).map(x => if (x == i) 1.0 else 0.0).toArray).toArray\n",
    "    return breeze.linalg.DenseMatrix(oneHot:_*)\n",
    "}"
   ]
  },
  {
   "cell_type": "code",
   "execution_count": 310,
   "id": "immediate-experience",
   "metadata": {},
   "outputs": [
    {
     "data": {
      "text/plain": [
       "\u001b[36mY_train_one_hot\u001b[39m: \u001b[32mbreeze\u001b[39m.\u001b[32mlinalg\u001b[39m.\u001b[32mDenseMatrix\u001b[39m[\u001b[32mDouble\u001b[39m] = 1.0  0.0  0.0  \n",
       "1.0  0.0  0.0  \n",
       "1.0  0.0  0.0  \n",
       "0.0  0.0  1.0  \n",
       "1.0  0.0  0.0  \n",
       "0.0  1.0  0.0  \n",
       "0.0  0.0  1.0  \n",
       "0.0  1.0  0.0  \n",
       "1.0  0.0  0.0  \n",
       "0.0  0.0  1.0  \n",
       "0.0  1.0  0.0  \n",
       "1.0  0.0  0.0  \n",
       "0.0  0.0  1.0  \n",
       "0.0  0.0  1.0  \n",
       "0.0  0.0  1.0  \n",
       "0.0  1.0  0.0  \n",
       "1.0  0.0  0.0  \n",
       "0.0  0.0  1.0  \n",
       "0.0  1.0  0.0  \n",
       "0.0  1.0  0.0  \n",
       "0.0  1.0  0.0  \n",
       "0.0  1.0  0.0  \n",
       "1.0  0.0  0.0  \n",
       "0.0  0.0  1.0  \n",
       "0.0  1.0  0.0  \n",
       "1.0  0.0  0.0  \n",
       "1.0  0.0  0.0  \n",
       "0.0  0.0  1.0  \n",
       "0.0  0.0  1.0  \n",
       "0.0  0.0  1.0  \n",
       "1.0  0.0  0.0  \n",
       "0.0  1.0  0.0  \n",
       "0.0  0.0  1.0  \n",
       "1.0  0.0  0.0  \n",
       "0.0  1.0  0.0  \n",
       "0.0  0.0  1.0  \n",
       "1.0  0.0  0.0  \n",
       "0.0  0.0  1.0  \n",
       "0.0  1.0  0.0  \n",
       "...\n",
       "\u001b[36mY_valid_one_hot\u001b[39m: \u001b[32mbreeze\u001b[39m.\u001b[32mlinalg\u001b[39m.\u001b[32mDenseMatrix\u001b[39m[\u001b[32mDouble\u001b[39m] = 1.0  0.0  0.0  \n",
       "1.0  0.0  0.0  \n",
       "0.0  0.0  1.0  \n",
       "1.0  0.0  0.0  \n",
       "1.0  0.0  0.0  \n",
       "0.0  0.0  1.0  \n",
       "0.0  0.0  1.0  \n",
       "0.0  1.0  0.0  \n",
       "0.0  1.0  0.0  \n",
       "0.0  1.0  0.0  \n",
       "0.0  0.0  1.0  \n",
       "0.0  1.0  0.0  \n",
       "0.0  1.0  0.0  \n",
       "0.0  1.0  0.0  \n",
       "0.0  1.0  0.0  \n",
       "1.0  0.0  0.0  \n",
       "1.0  0.0  0.0  \n",
       "0.0  0.0  1.0  \n",
       "0.0  0.0  1.0  \n",
       "1.0  0.0  0.0  \n",
       "1.0  0.0  0.0  \n",
       "0.0  1.0  0.0  \n",
       "0.0  0.0  1.0  \n",
       "0.0  0.0  1.0  \n",
       "0.0  1.0  0.0  \n",
       "0.0  0.0  1.0  \n",
       "0.0  0.0  1.0  \n",
       "1.0  0.0  0.0  \n",
       "0.0  0.0  1.0  \n",
       "1.0  0.0  0.0  \n",
       "\u001b[36mY_test_one_hot\u001b[39m: \u001b[32mbreeze\u001b[39m.\u001b[32mlinalg\u001b[39m.\u001b[32mDenseMatrix\u001b[39m[\u001b[32mDouble\u001b[39m] = 1.0  0.0  0.0  \n",
       "0.0  0.0  1.0  \n",
       "1.0  0.0  0.0  \n",
       "0.0  1.0  0.0  \n",
       "0.0  1.0  0.0  \n",
       "0.0  1.0  0.0  \n",
       "0.0  1.0  0.0  \n",
       "0.0  1.0  0.0  \n",
       "0.0  1.0  0.0  \n",
       "0.0  0.0  1.0  \n",
       "1.0  0.0  0.0  \n",
       "0.0  0.0  1.0  \n",
       "1.0  0.0  0.0  \n",
       "0.0  1.0  0.0  \n",
       "0.0  1.0  0.0  \n",
       "0.0  0.0  1.0  \n",
       "1.0  0.0  0.0  \n",
       "0.0  1.0  0.0  \n",
       "1.0  0.0  0.0  \n",
       "1.0  0.0  0.0  \n",
       "0.0  0.0  1.0  \n",
       "0.0  1.0  0.0  \n",
       "1.0  0.0  0.0  \n",
       "0.0  0.0  1.0  \n",
       "0.0  1.0  0.0  \n",
       "1.0  0.0  0.0  \n",
       "0.0  0.0  1.0  \n",
       "0.0  0.0  1.0  \n",
       "0.0  0.0  1.0  \n",
       "1.0  0.0  0.0  "
      ]
     },
     "execution_count": 310,
     "metadata": {},
     "output_type": "execute_result"
    }
   ],
   "source": [
    "val Y_train_one_hot = toOneHot(y_train)\n",
    "val Y_valid_one_hot = toOneHot(y_valid)\n",
    "val Y_test_one_hot = toOneHot(y_test)"
   ]
  },
  {
   "cell_type": "markdown",
   "id": "dried-valuation",
   "metadata": {},
   "source": [
    "$$\\sigma\\left(\\mathbf{s}(\\mathbf{x})\\right)_k = \\dfrac{\\exp\\left(s_k(\\mathbf{x})\\right)}{\\sum\\limits_{j=1}^{K}{\\exp\\left(s_j(\\mathbf{x})\\right)}}$$"
   ]
  },
  {
   "cell_type": "code",
   "execution_count": 159,
   "id": "rapid-crack",
   "metadata": {},
   "outputs": [
    {
     "data": {
      "text/plain": [
       "defined \u001b[32mfunction\u001b[39m \u001b[36msoftmax\u001b[39m"
      ]
     },
     "execution_count": 159,
     "metadata": {},
     "output_type": "execute_result"
    }
   ],
   "source": [
    "def softmax(logits: breeze.linalg.DenseMatrix[Double]): breeze.linalg.DenseMatrix[Double] = { \n",
    "    val exps = breeze.numerics.exp(logits)\n",
    "    val exp_sums = breeze.linalg.sum(exps, breeze.linalg.Axis._1)\n",
    "    exps(::, breeze.linalg.*) / exp_sums\n",
    "}"
   ]
  },
  {
   "cell_type": "code",
   "execution_count": 91,
   "id": "comfortable-midwest",
   "metadata": {},
   "outputs": [
    {
     "data": {
      "text/plain": [
       "\u001b[36mnInputs\u001b[39m: \u001b[32mInt\u001b[39m = \u001b[32m5\u001b[39m\n",
       "\u001b[36mnOutputs\u001b[39m: \u001b[32mInt\u001b[39m = \u001b[32m3\u001b[39m"
      ]
     },
     "execution_count": 91,
     "metadata": {},
     "output_type": "execute_result"
    }
   ],
   "source": [
    "val nInputs = X_train.cols\n",
    "val nOutputs = y_train.toArray.distinct.size"
   ]
  },
  {
   "cell_type": "code",
   "execution_count": 261,
   "id": "comfortable-blocking",
   "metadata": {},
   "outputs": [
    {
     "data": {
      "text/plain": [
       "\u001b[36meta\u001b[39m: \u001b[32mDouble\u001b[39m = \u001b[32m0.1\u001b[39m\n",
       "\u001b[36mnIterations\u001b[39m: \u001b[32mInt\u001b[39m = \u001b[32m5001\u001b[39m\n",
       "\u001b[36mm\u001b[39m: \u001b[32mInt\u001b[39m = \u001b[32m90\u001b[39m\n",
       "\u001b[36mepsilon\u001b[39m: \u001b[32mDouble\u001b[39m = \u001b[32m1.0E-7\u001b[39m\n",
       "\u001b[36malpha\u001b[39m: \u001b[32mDouble\u001b[39m = \u001b[32m0.1\u001b[39m\n",
       "\u001b[36mbest_loss\u001b[39m: \u001b[32mDouble\u001b[39m = \u001b[32mInfinity\u001b[39m"
      ]
     },
     "execution_count": 261,
     "metadata": {},
     "output_type": "execute_result"
    }
   ],
   "source": [
    "val eta = 0.1\n",
    "val nIterations = 5001\n",
    "val m = X_train.rows\n",
    "val epsilon = 1e-7\n",
    "val alpha = 0.1\n",
    "val best_loss = breeze.numerics.inf"
   ]
  },
  {
   "cell_type": "code",
   "execution_count": 239,
   "id": "lined-poverty",
   "metadata": {},
   "outputs": [
    {
     "data": {
      "text/plain": [
       "\u001b[36mnormal\u001b[39m: \u001b[32mbreeze\u001b[39m.\u001b[32mstats\u001b[39m.\u001b[32mdistributions\u001b[39m.\u001b[32mGaussian\u001b[39m = \u001b[33mGaussian\u001b[39m(mu = \u001b[32m0.0\u001b[39m, sigma = \u001b[32m1.0\u001b[39m)\n",
       "\u001b[36mtheta\u001b[39m: \u001b[32mbreeze\u001b[39m.\u001b[32mlinalg\u001b[39m.\u001b[32mDenseMatrix\u001b[39m[\u001b[32mDouble\u001b[39m] = 1.596397126252231    1.316680351855279    -0.8236402058374441   \n",
       "0.7540399353435071   -0.9385061549889049  -0.13067915164537772  \n",
       "0.5916119700444132   -1.006402033568321   0.3266608293353119    \n",
       "2.4340435212645124   -1.4665308466034233  -0.36546442027442916  \n",
       "0.16912992396952492  -1.4806478549379896  0.6771692248727433    "
      ]
     },
     "execution_count": 239,
     "metadata": {},
     "output_type": "execute_result"
    }
   ],
   "source": [
    "val normal = breeze.stats.distributions.Gaussian(0, 1)\n",
    "val theta = breeze.linalg.DenseMatrix.rand(nInputs, nOutputs, normal)"
   ]
  },
  {
   "cell_type": "code",
   "execution_count": 311,
   "id": "modular-psychiatry",
   "metadata": {},
   "outputs": [
    {
     "data": {
      "text/plain": [
       "defined \u001b[32mfunction\u001b[39m \u001b[36mcalculateLoss\u001b[39m\n",
       "defined \u001b[32mfunction\u001b[39m \u001b[36mloop\u001b[39m"
      ]
     },
     "execution_count": 311,
     "metadata": {},
     "output_type": "execute_result"
    }
   ],
   "source": [
    "def calculateLoss(weights: breeze.linalg.DenseMatrix[Double], \n",
    "                  yProb: breeze.linalg.DenseMatrix[Double], \n",
    "                  Y: breeze.linalg.DenseMatrix[Double]): Double = {\n",
    "        val intermediate = Y *:* breeze.numerics.log(yProb + epsilon)\n",
    "        val xentropy_loss = -breeze.stats.mean(breeze.linalg.sum(intermediate, breeze.linalg.Axis._1))\n",
    "        val l2 = breeze.numerics.pow(weights(1 until weights.rows, ::), 2)\n",
    "        val l2_loss = 1.0 / 2.0 * breeze.linalg.sum(l2)\n",
    "        xentropy_loss + alpha * l2_loss\n",
    "}\n",
    "\n",
    "\n",
    "def loop(iteration: Int, \n",
    "         weights: breeze.linalg.DenseMatrix[Double],\n",
    "         bl: Double): breeze.linalg.DenseMatrix[Double] = iteration match {\n",
    "    case i if i >= nIterations => weights\n",
    "    case i => {\n",
    "        val logits = X_train * weights\n",
    "        val yProba = softmax(logits)\n",
    "        val loss = calculateLoss(weights, yProba, Y_train_one_hot)\n",
    "        val error = yProba - Y_train_one_hot\n",
    "        \n",
    "        val l2 = breeze.linalg.DenseMatrix.vertcat(breeze.linalg.DenseVector.zeros[Double](nOutputs).toDenseMatrix, \n",
    "                                           alpha * theta(1 until theta.rows, ::))\n",
    "        \n",
    "        val gradients = 1.0 / m * X_train.t * error + l2\n",
    "        \n",
    "        val new_weights = weights - eta * gradients\n",
    "        val new_logits = X_valid * new_weights\n",
    "        val newYProba = softmax(new_logits)\n",
    "        val newLoss = calculateLoss(new_weights, newYProba, Y_valid_one_hot)\n",
    "        \n",
    "        if (iteration % 500 == 0) {\n",
    "            println(iteration, newLoss)\n",
    "        }\n",
    "        \n",
    "        if (newLoss < bl) {\n",
    "            loop(iteration + 1, new_weights, newLoss)\n",
    "        }\n",
    "        else {\n",
    "            println(iteration - 1, bl)\n",
    "            println(iteration, newLoss, \"early stopping!\")\n",
    "            return new_weights\n",
    "        }\n",
    "    }\n",
    "}"
   ]
  },
  {
   "cell_type": "code",
   "execution_count": 312,
   "id": "expired-newark",
   "metadata": {},
   "outputs": [
    {
     "name": "stdout",
     "output_type": "stream",
     "text": [
      "(0,10.691350591014318)\n",
      "(14,0.9106372939578138)\n",
      "(15,0.9110235030313603,early stopping!)\n"
     ]
    },
    {
     "data": {
      "text/plain": [
       "\u001b[36mtrained_weights\u001b[39m: \u001b[32mbreeze\u001b[39m.\u001b[32mlinalg\u001b[39m.\u001b[32mDenseMatrix\u001b[39m[\u001b[32mDouble\u001b[39m] = 1.488496110206755    1.4802287870530424   -0.8792876249897323  \n",
       "-0.4601920135695048  0.33209024803815057  -0.1366203463528972  \n",
       "0.3993015916983828   -0.5376587726375     0.0643286242206966   \n",
       "0.26712498006263485  0.03965924187553116  0.19893631174662874  \n",
       "-0.5514373613620214  -0.8138299570225941  0.8324144052642096   "
      ]
     },
     "execution_count": 312,
     "metadata": {},
     "output_type": "execute_result"
    }
   ],
   "source": [
    "val trained_weights = loop(0, theta, best_loss)"
   ]
  },
  {
   "cell_type": "code",
   "execution_count": 313,
   "id": "owned-rebecca",
   "metadata": {},
   "outputs": [
    {
     "data": {
      "text/plain": [
       "\u001b[36mlogits\u001b[39m: \u001b[32mbreeze\u001b[39m.\u001b[32mlinalg\u001b[39m.\u001b[32mDenseMatrix\u001b[39m[\u001b[32mDouble\u001b[39m] = 0.5919706083278398     1.3137104700652928     -0.9804492588347694   \n",
       "0.8853133662415287     1.2749723849933803     -0.8488704212043378   \n",
       "-0.016274125840219103  0.8501550261215745     0.9068253354169545    \n",
       "0.9462689688857291     1.2574827060654148     -0.9716978581973876   \n",
       "0.7669228789763901     1.066282350343958      -0.8288976451318999   \n",
       "0.03893882559862932    0.4695113760406544     1.4773694604152803    \n",
       "0.09640578969566671    0.599632564609218      1.162308330612058     \n",
       "0.22746504696067077    1.1707679975693734     0.395140279606923     \n",
       "0.521954136636974      1.1341354892766389     0.09456561003882757   \n",
       "0.32425768239038644    1.271836263335036      0.19530299862682476   \n",
       "-0.21714894165787643   1.1278965162481682     1.084940831473212     \n",
       "0.13301068378593667    1.1589517297838685     0.37046003594572174   \n",
       "0.28708584013357363    1.3002077815547657     0.037922320149974875  \n",
       "0.19593868503557432    0.8428199549632058     0.5960287666140984    \n",
       "0.151000634668159      1.1011927600735132     0.34533238390553267   \n",
       "0.6714289390123053     1.1533115889296257     -0.8256587756140679   \n",
       "0.8169339119389185     1.4188346743747675     -0.9676626788884051   \n",
       "-0.022630848982358412  1.1302364582579683     1.0615815503534767    \n",
       "0.49642811892855926    0.5582797323477103     0.9224121302417987    \n",
       "0.8403337416739285     1.2093359034260223     -0.8904515690186608   \n",
       "0.9783913457447799     1.109708829014577      -0.8494654651127914   \n",
       "0.4842319775515017     0.6846795110601844     0.692459318852277     \n",
       "-0.010587071308318015  0.817844751973343      1.0559792660067369    \n",
       "0.13113815429429387    0.0015039586863432874  1.7469425365556104    \n",
       "0.12287008941468658    1.634727985958976      0.0706729224291417    \n",
       "0.4433965482924963     1.1907963058996036     0.73400619838242      \n",
       "-0.16453741567985783   0.6100262997204516     1.199777054746072     \n",
       "0.9130654410371426     1.1800928028097601     -0.8568959032087081   \n",
       "-0.13173587548648216   0.6345490763679399     1.226899858133955     \n",
       "0.9543123526754451     1.1469109462649967     -0.8315669852858224   \n",
       "\u001b[36mY_proba\u001b[39m: \u001b[32mbreeze\u001b[39m.\u001b[32mlinalg\u001b[39m.\u001b[32mDenseMatrix\u001b[39m[\u001b[32mDouble\u001b[39m] = 0.30622683786684507  0.6302181247860466   0.06355503734710846   \n",
       "0.37692872125979027  0.5565266844431063   0.06654459429710359   \n",
       "0.16962139616412902  0.4034279963144496   0.42695060752142133   \n",
       "0.3980913428997958   0.5434269119607336   0.058481745139470694  \n",
       "0.3918899831065019   0.5286574166139048   0.07945260027959326   \n",
       "0.14809954666344444  0.2277975305888146   0.6241029227477409    \n",
       "0.1799367563072052   0.29762437659790214  0.5224388670948926    \n",
       "0.21048185387874999  0.540612304910384    0.24890584121086604   \n",
       "0.28598715729287066  0.5274891296719355   0.18652371303519374   \n",
       "0.22429219268059677  0.5785518751156188   0.19715593220378433   \n",
       "0.11743520980193527  0.4507587317366731   0.4318060584613917    \n",
       "0.19771714779833097  0.5515753787554494   0.2507074734462197    \n",
       "0.2205733860952227   0.6075001351569533   0.17192647874782405   \n",
       "0.2271934589637697   0.43384319483349254  0.33896334620273777   \n",
       "0.20830271227710498  0.5387138258668527   0.25298346185604226   \n",
       "0.3517534049983363   0.5695308923081066   0.07871570269355721   \n",
       "0.3340626729313664   0.6098599748049729   0.056077352263660715  \n",
       "0.14036326277654737  0.44456714613067394  0.41506959109277874   \n",
       "0.278171794724471    0.29592040107769985  0.4259078041978291    \n",
       "0.3811794954685093   0.5512963708358924   0.06752413369559827   \n",
       "0.43457713070204684  0.49556123492403176  0.06986163437392141   \n",
       "0.28956612692093653  0.3538351837634006   0.3565986893156628    \n",
       "0.16141759602506534  0.3696019421158234   0.46898046185911135   \n",
       "0.14471045806183755  0.12711608314819084  0.7281734587899716    \n",
       "0.15421887671156423  0.6994055550889514   0.14637556819948433   \n",
       "0.22478249768865544  0.47462879549009773  0.3005887068212468    \n",
       "0.1411893942533093   0.3063309109907536   0.5524796947559372    \n",
       "0.4038094159660533   0.5274058604226314   0.0687847236113153    \n",
       "0.14199222794629324  0.3055328419683896   0.5524749300853171    \n",
       "0.4201600157215701   0.509400335988472    0.07043964828995797   \n",
       "\u001b[36my_predict\u001b[39m: \u001b[32mbreeze\u001b[39m.\u001b[32mlinalg\u001b[39m.\u001b[32mDenseVector\u001b[39m[\u001b[32mInt\u001b[39m] = DenseVector(1, 1, 2, 1, 1, 2, 2, 1, 1, 1, 1, 1, 1, 1, 1, 1, 1, 1, 2, 1, 1, 2, 2, 2, 1, 1, 2, 1, 2, 1)\n",
       "\u001b[36maccuracy_score\u001b[39m: \u001b[32mDouble\u001b[39m = \u001b[32m0.5333333333333333\u001b[39m"
      ]
     },
     "execution_count": 313,
     "metadata": {},
     "output_type": "execute_result"
    }
   ],
   "source": [
    "val logits = X_valid * trained_weights\n",
    "val Y_proba = softmax(logits)\n",
    "val y_predict = breeze.linalg.argmax(Y_proba, breeze.linalg.Axis._1)\n",
    "\n",
    "val accuracy_score = breeze.stats.mean((y_predict :== y_valid).toDenseVector.map(x => if (x) 1.0 else 0.0))"
   ]
  }
 ],
 "metadata": {
  "kernelspec": {
   "display_name": "Scala",
   "language": "scala",
   "name": "scala"
  },
  "language_info": {
   "codemirror_mode": "text/x-scala",
   "file_extension": ".sc",
   "mimetype": "text/x-scala",
   "name": "scala",
   "nbconvert_exporter": "script",
   "version": "2.13.4"
  }
 },
 "nbformat": 4,
 "nbformat_minor": 5
}
