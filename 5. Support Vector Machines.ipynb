{
 "cells": [
  {
   "cell_type": "code",
   "execution_count": 14,
   "id": "pretty-composition",
   "metadata": {},
   "outputs": [],
   "source": [
    "import numpy as np\n",
    "import matplotlib.pyplot as plt\n",
    "\n",
    "from sklearn import datasets\n",
    "from sklearn.pipeline import Pipeline\n",
    "from sklearn.preprocessing import StandardScaler, PolynomialFeatures\n",
    "from sklearn.svm import LinearSVC, SVC, LinearSVR, SVR\n",
    "from sklearn.linear_model import SGDClassifier\n",
    "from sklearn.metrics import accuracy_score, mean_squared_error\n",
    "from sklearn.model_selection import RandomizedSearchCV, train_test_split\n",
    "from scipy.stats import reciprocal, uniform\n",
    "\n",
    "%matplotlib inline"
   ]
  },
  {
   "cell_type": "markdown",
   "id": "otherwise-naples",
   "metadata": {},
   "source": [
    "### Soft Margin Classification"
   ]
  },
  {
   "cell_type": "code",
   "execution_count": 4,
   "id": "surprised-struggle",
   "metadata": {},
   "outputs": [],
   "source": [
    "iris = datasets.load_iris()\n",
    "X = iris['data'][:, (2, 3)] # petal length, petal width\n",
    "y = (iris['target'] == 2).astype(np.float64) # Iris virginica"
   ]
  },
  {
   "cell_type": "code",
   "execution_count": 5,
   "id": "perfect-endorsement",
   "metadata": {},
   "outputs": [],
   "source": [
    "svm_clf = Pipeline([\n",
    "    ('sclaler', StandardScaler()),\n",
    "    ('linear_svc', LinearSVC(C=1, loss='hinge'))\n",
    "])"
   ]
  },
  {
   "cell_type": "code",
   "execution_count": 6,
   "id": "personal-distributor",
   "metadata": {},
   "outputs": [
    {
     "data": {
      "text/plain": [
       "Pipeline(steps=[('sclaler', StandardScaler()),\n",
       "                ('linear_svc', LinearSVC(C=1, loss='hinge'))])"
      ]
     },
     "execution_count": 6,
     "metadata": {},
     "output_type": "execute_result"
    }
   ],
   "source": [
    "svm_clf.fit(X, y)"
   ]
  },
  {
   "cell_type": "code",
   "execution_count": 7,
   "id": "apparent-questionnaire",
   "metadata": {},
   "outputs": [
    {
     "data": {
      "text/plain": [
       "array([1.])"
      ]
     },
     "execution_count": 7,
     "metadata": {},
     "output_type": "execute_result"
    }
   ],
   "source": [
    "svm_clf.predict([[5.5, 1.7]])"
   ]
  },
  {
   "cell_type": "markdown",
   "id": "armed-awareness",
   "metadata": {},
   "source": [
    "### Nonlinear SVC Classification"
   ]
  },
  {
   "cell_type": "code",
   "execution_count": 9,
   "id": "western-healing",
   "metadata": {},
   "outputs": [],
   "source": [
    "X, y = datasets.make_moons(n_samples=100, noise=0.15)\n",
    "polynomial_svm_clf = Pipeline([\n",
    "    ('poly_features', PolynomialFeatures(degree=3)),\n",
    "    ('scaler', StandardScaler()),\n",
    "    ('svm_clf', LinearSVC(C=10, loss='hinge'))\n",
    "])"
   ]
  },
  {
   "cell_type": "code",
   "execution_count": 10,
   "id": "intellectual-weight",
   "metadata": {},
   "outputs": [
    {
     "data": {
      "text/plain": [
       "Pipeline(steps=[('poly_features', PolynomialFeatures(degree=3)),\n",
       "                ('scaler', StandardScaler()),\n",
       "                ('svm_clf', LinearSVC(C=10, loss='hinge'))])"
      ]
     },
     "execution_count": 10,
     "metadata": {},
     "output_type": "execute_result"
    }
   ],
   "source": [
    "polynomial_svm_clf.fit(X, y)"
   ]
  },
  {
   "cell_type": "markdown",
   "id": "competitive-carrier",
   "metadata": {},
   "source": [
    "### Polynomial Kernel"
   ]
  },
  {
   "cell_type": "code",
   "execution_count": 12,
   "id": "induced-partition",
   "metadata": {},
   "outputs": [],
   "source": [
    "poly_kernel_svm_clf = Pipeline([\n",
    "    ('scaler', StandardScaler()),\n",
    "    ('svm_clf', SVC(kernel='poly', C=5, degree=3, coef0=1))\n",
    "])"
   ]
  },
  {
   "cell_type": "code",
   "execution_count": 13,
   "id": "honest-johnston",
   "metadata": {},
   "outputs": [
    {
     "data": {
      "text/plain": [
       "Pipeline(steps=[('scaler', StandardScaler()),\n",
       "                ('svm_clf', SVC(C=5, coef0=1, kernel='poly'))])"
      ]
     },
     "execution_count": 13,
     "metadata": {},
     "output_type": "execute_result"
    }
   ],
   "source": [
    "poly_kernel_svm_clf.fit(X, y)"
   ]
  },
  {
   "cell_type": "markdown",
   "id": "great-queens",
   "metadata": {},
   "source": [
    "### Similarity Features\n",
    "\n",
    "$$ \\phi_{\\gamma}(\\mathbf{x}, l) = \\exp(-\\gamma\\left \\| \\mathbf{x} - l \\right \\|^{2}) $$\n",
    "\n",
    "### Gaussian RBF Kernel"
   ]
  },
  {
   "cell_type": "code",
   "execution_count": 14,
   "id": "thorough-scott",
   "metadata": {},
   "outputs": [],
   "source": [
    "rbf_kernel_svm_clf = Pipeline([\n",
    "    ('scaler', StandardScaler()),\n",
    "    ('svm_clf', SVC(kernel='rbf', C=0.001, gamma=5))\n",
    "])"
   ]
  },
  {
   "cell_type": "code",
   "execution_count": 15,
   "id": "framed-trick",
   "metadata": {},
   "outputs": [
    {
     "data": {
      "text/plain": [
       "Pipeline(steps=[('scaler', StandardScaler()),\n",
       "                ('svm_clf', SVC(C=0.001, gamma=5))])"
      ]
     },
     "execution_count": 15,
     "metadata": {},
     "output_type": "execute_result"
    }
   ],
   "source": [
    "rbf_kernel_svm_clf.fit(X, y)"
   ]
  },
  {
   "cell_type": "markdown",
   "id": "solar-puzzle",
   "metadata": {},
   "source": [
    "### SVM Regression"
   ]
  },
  {
   "cell_type": "code",
   "execution_count": 17,
   "id": "therapeutic-extension",
   "metadata": {},
   "outputs": [],
   "source": [
    "svm_reg = Pipeline([\n",
    "    ('sclaler', StandardScaler()),\n",
    "    ('linear_svr', LinearSVR(epsilon=1.5))\n",
    "])"
   ]
  },
  {
   "cell_type": "code",
   "execution_count": 18,
   "id": "convertible-symbol",
   "metadata": {},
   "outputs": [
    {
     "data": {
      "text/plain": [
       "Pipeline(steps=[('sclaler', StandardScaler()),\n",
       "                ('linear_svr', LinearSVR(epsilon=1.5))])"
      ]
     },
     "execution_count": 18,
     "metadata": {},
     "output_type": "execute_result"
    }
   ],
   "source": [
    "svm_reg.fit(X, y)"
   ]
  },
  {
   "cell_type": "code",
   "execution_count": 20,
   "id": "refined-massachusetts",
   "metadata": {},
   "outputs": [],
   "source": [
    "svm_poly_reg = Pipeline([\n",
    "    ('scaler', StandardScaler()),\n",
    "    ('svm_poly_reg', SVR(kernel='poly', C=100, degree=2, epsilon=0.1))\n",
    "])"
   ]
  },
  {
   "cell_type": "code",
   "execution_count": 21,
   "id": "rolled-joining",
   "metadata": {},
   "outputs": [
    {
     "data": {
      "text/plain": [
       "Pipeline(steps=[('scaler', StandardScaler()),\n",
       "                ('svm_poly_reg', SVR(C=100, degree=2, kernel='poly'))])"
      ]
     },
     "execution_count": 21,
     "metadata": {},
     "output_type": "execute_result"
    }
   ],
   "source": [
    "svm_poly_reg.fit(X, y)"
   ]
  },
  {
   "cell_type": "markdown",
   "id": "conservative-shape",
   "metadata": {},
   "source": [
    "### Decision Function and Predictions\n",
    "\n",
    "$$ \\widehat{y} = \\left\\{\\begin{matrix}\n",
    "0\\ \\mathrm{if}\\ \\mathbf{w}^{\\top}\\mathbf{x} + b <  0,\n",
    "\\\\ 1\\ \\mathrm{if}\\ \\mathbf{w}^{\\top}\\mathbf{x} + b \\geq 0\n",
    "\\end{matrix}\\right. $$\n",
    "\n",
    "$$\n",
    "\\underset{w, b, \\zeta}{\\mathrm{minimize}}\\; \\frac{1}{2} \\mathbf{w}^{\\top}\\mathbf{x} + C\\sum_{i = 1}^{m}\\zeta^{(i)}\n",
    "$$\n",
    "\n",
    "$$\n",
    "\\mathrm{subject\\ to}\\; t^{(i)}(\\mathbf{w}^{\\top}\\mathbf{x}^{(i)} + b) \\geq 1 - \\zeta^{(i)}\\; \\mathrm{and}\\; \\zeta^{(i)} \\geq 0\\; \\mathrm{for}\\ i = 1,2...,m \n",
    "$$\n",
    "\n",
    "### Quadratic Programming\n",
    "\n",
    "$$\n",
    "\\underset{\\mathbf{p}}{\\mathrm{Minimize}}\\; \\frac{1}{2} \\mathbf{p}^{\\top}\\mathbf{Hp} + \\mathbf{f}^{\\top}\\mathbf{p}\n",
    "$$\n",
    "\n",
    "$$\n",
    "\\mathrm{subject\\ to}\\; \\mathbf{Ap} \\leq \\mathbf{b}\n",
    "$$\n",
    "$$ \\mathrm{where} \\left\\{\\begin{matrix}\n",
    "\\mathbf{p}\\; \\mathrm{is\\ an}\\ n_{p}\\mathrm{-dimensional\\ vector\\ (}n_{p} = \\mathrm{number\\ of\\ parameters),}\n",
    "\\\\ \\mathbf{H}\\; \\mathrm{is\\ an}\\ n_{p}\\times n_{p}\\ \\mathrm{matrix,}\n",
    "\\\\ \\mathbf{f}\\; \\mathrm{is\\ an}\\ n_{p}\\mathrm{-dimensional\\ vector,}\n",
    "\\\\ \\mathbf{A}\\; \\mathrm{is\\ an}\\ n_{c}\\times n_{p}\\ \\mathrm{matrix\\ (}n_{c} = \\mathrm{number\\ of\\ constraints),}\n",
    "\\\\ \\mathbf{A}\\; \\mathrm{is\\ an}\\ n_{c}\\times n_{p}\\ \\mathrm{matrix\\ (}n_{c} = \\mathrm{number\\ of\\ constraints),}\n",
    "\\\\ \\mathbf{b}\\; \\mathrm{is\\ an}\\ n_{c}\\mathrm{-dimensional\\ vector.}\n",
    "\\end{matrix}\\right. $$\n",
    "\n",
    "$$\n",
    "\\underset{\\mathbf{\\alpha}}{\\mathrm{minimize}}\\frac{1}{2}\\sum_{i = 1}^{m}\\sum_{j = 1}^{m}\\alpha^{(i)}\\alpha^{(j)}t^{(i)}t^{(j)}\\mathbf{x}^{(i)\\top}\\mathbf{x}^{(j)} - \\sum_{i = 1}^{m}\\alpha^{(i)}\n",
    "$$\n",
    "$$\n",
    "\\mathrm{subject\\ to}\\ \\alpha^{(i)} \\geq 0\\; \\mathrm{for}\\ i = 1,2...,m \n",
    "$$\n",
    "$$\n",
    "\\widehat{\\mathbf{w}} = \\sum_{i = 1}^{m}\\widehat{\\alpha}^{(i)}t^{(i)}\\mathbf{x}^{(i)}\n",
    "$$\n",
    "$$\n",
    "\\widehat{b} = \\underset{\\alpha^{(i)} > 0}{\\sum_{i = 1}^{m}}(t^{(i)} - \\widehat{\\mathbf{w}}^{\\top}\\mathbf{x}^{(i)})\n",
    "$$\n",
    "\n",
    "### Kernelized SVMs\n",
    "\n",
    "$$\\phi(\\mathbf{x}) = \\phi\\left ( \\begin{pmatrix}\n",
    "x_{1}\n",
    "\\\\ x_{2}\n",
    "\\end{pmatrix} \\right ) = \\begin{pmatrix}\n",
    "x_{1}^{2}\n",
    "\\\\ \\sqrt{2}x_{1}x_{2}\n",
    "\\\\ x_{2}^{2}\n",
    "\\end{pmatrix}$$\n",
    "\n",
    "$$\\phi(\\mathbf{a})^{\\top}\\phi(\\mathbf{b}) = \\phi\\left ( \\begin{pmatrix}\n",
    "x_{1}\n",
    "\\\\ x_{2}\n",
    "\\end{pmatrix} \\right ) = \\left ( \\begin{pmatrix}\n",
    "x_{1}^{2}\n",
    "\\\\ \\sqrt{2}x_{1}x_{2}\n",
    "\\\\ x_{2}^{2}\n",
    "\\end{pmatrix} \\right )$$\n",
    "\n",
    "$$\n",
    "\\phi(\\mathbf{a})^{\\top}\\phi(\\mathbf{b}) = \\begin{pmatrix}\n",
    "a_{1}^{2}\n",
    "\\\\ \\sqrt{2}a_{1}a_{2}\n",
    "\\\\ a_{2}^{2}\n",
    "\\end{pmatrix}^{\\top} \\begin{pmatrix}\n",
    "b_{1}^{2}\n",
    "\\\\ \\sqrt{2}b_{1}b_{2}\n",
    "\\\\ b_{2}^{2}\n",
    "\\end{pmatrix} = a_{1}^{2}a_{2}^{2} + 2a_{1}a_{2}b_{1}b_{2} + b_{1}^{2}b_{2}^{2}\n",
    "= (a_{1}b_{1} + a_{1}b_{1})^{2} = \\left (\\begin{pmatrix}\n",
    "a_{1}\n",
    "\\\\ a_{2}\n",
    "\\end{pmatrix}^{\\top}\\begin{pmatrix}\n",
    "b_{1}\n",
    "\\\\ b_{2}\n",
    "\\end{pmatrix}  \\right )^{2} = \\left ( \\mathbf{a}^{\\top}\\mathbf{b} \\right )^{2}\n",
    "$$\n",
    "\n",
    "$$ \\mathrm{Linear:}\\; K(\\mathbf{a},\\mathbf{b}) = \\mathbf{a}^{\\top}\\mathbf{b} $$\n",
    "$$ \\mathrm{Polynomial:}\\; K(\\mathbf{a},\\mathbf{b}) = (\\gamma \\mathbf{a}^{\\top}\\mathbf{b} + r)^{d} $$\n",
    "$$ \\mathrm{Gaussian\\ RBF:}\\; K(\\mathbf{a},\\mathbf{b}) = \\exp\\ \\left (-\\gamma \\left \\| \\mathbf{a} - \\mathbf{b} \\right \\|^{2} \\right )$$\n",
    "$$ \\mathrm{Sigmoid:}\\; K(\\mathbf{a},\\mathbf{b}) = \\tanh\\ (\\gamma \\mathbf{a}^{\\top}\\mathbf{b} + r) $$\n",
    "\n",
    "$$h_{\\widehat{\\mathbf{w}}, \\widehat{b}}\\left ( \\phi \\left ( \\mathbf{x}^{(n)} \\right ) \\right ) = \\widehat{\\mathbf{w}}^{\\top}\\phi \\left ( \\mathbf{x}^{(n)} \\right ) + \\widehat{b} = \\left ( \\sum_{i = 1}^{m}\\widehat{\\alpha}^{(i)}t^{(i)}\\phi\\left ( \\mathbf{x}^{(i)} \\right ) \\right )^{\\top}\\phi\\left ( \\mathbf{x}^{(n)} \\right ) + \\widehat{b}$$\n",
    "\n",
    "$$\n",
    " = \\sum_{i = 1}^{m}\\widehat{\\alpha}^{(i)}t^{(i)}\\left (\\phi\\left ( \\mathbf{x}^{(i)} \\right )  \\right )^{\\top}\\left (\\phi\\left ( \\mathbf{x}^{(n)} \\right )  \\right ) + \\widehat{b}\n",
    "$$\n",
    " \n",
    "$$\n",
    " = \\underset{\\alpha^{(i)} > 0}{\\sum_{i = 1}^{m}}\\alpha^{(i)}t^{(i)}K\\left ( \\mathbf{x}^{(i)}, \\mathbf{x}^{(n)} \\right ) + \\widehat{b}\n",
    "$$\n",
    "\n",
    "### Exercises\n",
    "#### 8."
   ]
  },
  {
   "cell_type": "code",
   "execution_count": 33,
   "id": "bulgarian-flavor",
   "metadata": {},
   "outputs": [],
   "source": [
    "X = iris[\"data\"][:, (2, 3)]  # petal length, petal width\n",
    "y = iris[\"target\"]\n",
    "\n",
    "setosa_or_versicolor = (y == 0) | (y == 1)\n",
    "X = X[setosa_or_versicolor]\n",
    "y = y[setosa_or_versicolor]"
   ]
  },
  {
   "cell_type": "code",
   "execution_count": 37,
   "id": "nasty-platform",
   "metadata": {},
   "outputs": [
    {
     "name": "stdout",
     "output_type": "stream",
     "text": [
      "LinearSVC:                    [0.28475098] [[1.05364854 1.09903804]]\n",
      "SVC:                          [0.31896852] [[1.1203284  1.02625193]]\n",
      "SGDClassifier(alpha=0.00200): [0.319] [[1.12087283 1.02679408]]\n"
     ]
    }
   ],
   "source": [
    "C = 5\n",
    "alpha = 1 / (C * len(X))\n",
    "\n",
    "lin_clf = LinearSVC(loss=\"hinge\", C=C, random_state=42)\n",
    "svm_clf = SVC(kernel=\"linear\", C=C)\n",
    "sgd_clf = SGDClassifier(loss=\"hinge\", learning_rate=\"constant\", eta0=0.001, alpha=alpha,\n",
    "                        max_iter=100000, tol=-np.infty, random_state=42)\n",
    "\n",
    "scaler = StandardScaler()\n",
    "X_scaled = scaler.fit_transform(X)\n",
    "\n",
    "lin_clf.fit(X_scaled, y)\n",
    "svm_clf.fit(X_scaled, y)\n",
    "sgd_clf.fit(X_scaled, y)\n",
    "\n",
    "print(\"LinearSVC:                   \", lin_clf.intercept_, lin_clf.coef_)\n",
    "print(\"SVC:                         \", svm_clf.intercept_, svm_clf.coef_)\n",
    "print(\"SGDClassifier(alpha={:.5f}):\".format(sgd_clf.alpha), sgd_clf.intercept_, sgd_clf.coef_)"
   ]
  },
  {
   "cell_type": "code",
   "execution_count": 38,
   "id": "colonial-klein",
   "metadata": {},
   "outputs": [
    {
     "data": {
      "image/png": "[encoded data removed]",
      "text/plain": [
       "<Figure size 792x288 with 1 Axes>"
      ]
     },
     "metadata": {
      "needs_background": "light"
     },
     "output_type": "display_data"
    }
   ],
   "source": [
    "# Compute the slope and bias of each decision boundary\n",
    "w1 = -lin_clf.coef_[0, 0]/lin_clf.coef_[0, 1]\n",
    "b1 = -lin_clf.intercept_[0]/lin_clf.coef_[0, 1]\n",
    "w2 = -svm_clf.coef_[0, 0]/svm_clf.coef_[0, 1]\n",
    "b2 = -svm_clf.intercept_[0]/svm_clf.coef_[0, 1]\n",
    "w3 = -sgd_clf.coef_[0, 0]/sgd_clf.coef_[0, 1]\n",
    "b3 = -sgd_clf.intercept_[0]/sgd_clf.coef_[0, 1]\n",
    "\n",
    "# Transform the decision boundary lines back to the original scale\n",
    "line1 = scaler.inverse_transform([[-10, -10 * w1 + b1], [10, 10 * w1 + b1]])\n",
    "line2 = scaler.inverse_transform([[-10, -10 * w2 + b2], [10, 10 * w2 + b2]])\n",
    "line3 = scaler.inverse_transform([[-10, -10 * w3 + b3], [10, 10 * w3 + b3]])\n",
    "\n",
    "# Plot all three decision boundaries\n",
    "plt.figure(figsize=(11, 4))\n",
    "plt.plot(line1[:, 0], line1[:, 1], \"k:\", label=\"LinearSVC\")\n",
    "plt.plot(line2[:, 0], line2[:, 1], \"b--\", linewidth=2, label=\"SVC\")\n",
    "plt.plot(line3[:, 0], line3[:, 1], \"r-\", label=\"SGDClassifier\")\n",
    "plt.plot(X[:, 0][y==1], X[:, 1][y==1], \"bs\") # label=\"Iris-Versicolor\"\n",
    "plt.plot(X[:, 0][y==0], X[:, 1][y==0], \"yo\") # label=\"Iris-Setosa\"\n",
    "plt.xlabel(\"Petal length\", fontsize=14)\n",
    "plt.ylabel(\"Petal width\", fontsize=14)\n",
    "plt.legend(loc=\"upper center\", fontsize=14)\n",
    "plt.axis([0, 5.5, 0, 2])\n",
    "\n",
    "plt.show()"
   ]
  },
  {
   "cell_type": "markdown",
   "id": "joint-hawaiian",
   "metadata": {},
   "source": [
    "#### 9."
   ]
  },
  {
   "cell_type": "code",
   "execution_count": 39,
   "id": "valuable-crime",
   "metadata": {},
   "outputs": [],
   "source": [
    "try:\n",
    "    from sklearn.datasets import fetch_openml\n",
    "    mnist = fetch_openml('mnist_784', version=1, cache=True)\n",
    "except ImportError:\n",
    "    from sklearn.datasets import fetch_mldata\n",
    "    mnist = fetch_mldata('MNIST original')\n",
    "\n",
    "X = mnist[\"data\"]\n",
    "y = mnist[\"target\"]\n",
    "\n",
    "X_train = X[:60000]\n",
    "y_train = y[:60000]\n",
    "X_test = X[60000:]\n",
    "y_test = y[60000:]"
   ]
  },
  {
   "cell_type": "code",
   "execution_count": 42,
   "id": "seventh-introduction",
   "metadata": {},
   "outputs": [],
   "source": [
    "rnd_idx = np.random.permutation(60000)\n",
    "X_train = X_train.loc[rnd_idx]\n",
    "y_train = y_train.iloc[rnd_idx]"
   ]
  },
  {
   "cell_type": "code",
   "execution_count": 43,
   "id": "worse-gardening",
   "metadata": {},
   "outputs": [
    {
     "name": "stderr",
     "output_type": "stream",
     "text": [
      "/usr/local/lib/python3.9/site-packages/sklearn/svm/_base.py:985: ConvergenceWarning: Liblinear failed to converge, increase the number of iterations.\n",
      "  warnings.warn(\"Liblinear failed to converge, increase \"\n"
     ]
    },
    {
     "data": {
      "text/plain": [
       "LinearSVC()"
      ]
     },
     "execution_count": 43,
     "metadata": {},
     "output_type": "execute_result"
    }
   ],
   "source": [
    "lin_clf = LinearSVC()\n",
    "lin_clf.fit(X_train, y_train)"
   ]
  },
  {
   "cell_type": "code",
   "execution_count": 44,
   "id": "possible-visit",
   "metadata": {},
   "outputs": [
    {
     "data": {
      "text/plain": [
       "0.8871666666666667"
      ]
     },
     "execution_count": 44,
     "metadata": {},
     "output_type": "execute_result"
    }
   ],
   "source": [
    "y_pred = lin_clf.predict(X_train)\n",
    "accuracy_score(y_train, y_pred)"
   ]
  },
  {
   "cell_type": "code",
   "execution_count": 45,
   "id": "naughty-trial",
   "metadata": {},
   "outputs": [],
   "source": [
    "scaler = StandardScaler()\n",
    "X_train_scaled = scaler.fit_transform(X_train.astype(np.float32))\n",
    "X_test_scaled = scaler.transform(X_test.astype(np.float32))"
   ]
  },
  {
   "cell_type": "code",
   "execution_count": null,
   "id": "falling-board",
   "metadata": {},
   "outputs": [],
   "source": [
    "lin_clf = LinearSVC()\n",
    "lin_clf.fit(X_train_scaled, y_train)"
   ]
  },
  {
   "cell_type": "code",
   "execution_count": null,
   "id": "stylish-crisis",
   "metadata": {},
   "outputs": [],
   "source": [
    "y_pred = lin_clf.predict(X_train_scaled)\n",
    "accuracy_score(y_train, y_pred)"
   ]
  },
  {
   "cell_type": "code",
   "execution_count": null,
   "id": "civic-ethnic",
   "metadata": {},
   "outputs": [],
   "source": [
    "svm_clf = SVC(decision_function_shape=\"ovr\", gamma=\"auto\")\n",
    "svm_clf.fit(X_train_scaled[:10000], y_train[:10000])"
   ]
  },
  {
   "cell_type": "code",
   "execution_count": null,
   "id": "cardiac-match",
   "metadata": {},
   "outputs": [],
   "source": [
    "y_pred = svm_clf.predict(X_train_scaled)\n",
    "accuracy_score(y_train, y_pred)"
   ]
  },
  {
   "cell_type": "code",
   "execution_count": null,
   "id": "minor-exemption",
   "metadata": {},
   "outputs": [],
   "source": [
    "param_distributions = {\"gamma\": reciprocal(0.001, 0.1), \"C\": uniform(1, 10)}\n",
    "rnd_search_cv = RandomizedSearchCV(svm_clf, param_distributions, n_iter=10, verbose=2, cv=3)\n",
    "rnd_search_cv.fit(X_train_scaled[:1000], y_train[:1000])"
   ]
  },
  {
   "cell_type": "code",
   "execution_count": null,
   "id": "speaking-richmond",
   "metadata": {},
   "outputs": [],
   "source": [
    "rnd_search_cv.best_estimator_"
   ]
  },
  {
   "cell_type": "code",
   "execution_count": null,
   "id": "traditional-magazine",
   "metadata": {},
   "outputs": [],
   "source": [
    "rnd_search_cv.best_score_"
   ]
  },
  {
   "cell_type": "code",
   "execution_count": null,
   "id": "basic-bread",
   "metadata": {},
   "outputs": [],
   "source": [
    "rnd_search_cv.best_estimator_.fit(X_train_scaled, y_train)"
   ]
  },
  {
   "cell_type": "markdown",
   "id": "committed-emerald",
   "metadata": {},
   "source": [
    "#### 10."
   ]
  },
  {
   "cell_type": "code",
   "execution_count": 2,
   "id": "instructional-sitting",
   "metadata": {},
   "outputs": [],
   "source": [
    "housing = datasets.fetch_california_housing()"
   ]
  },
  {
   "cell_type": "code",
   "execution_count": 4,
   "id": "funny-clearing",
   "metadata": {},
   "outputs": [],
   "source": [
    "X = housing['data']\n",
    "y = housing['target']"
   ]
  },
  {
   "cell_type": "code",
   "execution_count": 10,
   "id": "excessive-america",
   "metadata": {},
   "outputs": [],
   "source": [
    "X_train, X_test, y_train, y_test = train_test_split(X, y, test_size=0.2)"
   ]
  },
  {
   "cell_type": "code",
   "execution_count": 11,
   "id": "several-strength",
   "metadata": {},
   "outputs": [],
   "source": [
    "scaler = StandardScaler()\n",
    "X_train_scaled = scaler.fit_transform(X_train)\n",
    "X_test_scaled = scaler.fit_transform(X_test)"
   ]
  },
  {
   "cell_type": "code",
   "execution_count": 13,
   "id": "dimensional-movement",
   "metadata": {},
   "outputs": [
    {
     "name": "stderr",
     "output_type": "stream",
     "text": [
      "/usr/local/lib/python3.9/site-packages/sklearn/svm/_base.py:985: ConvergenceWarning: Liblinear failed to converge, increase the number of iterations.\n",
      "  warnings.warn(\"Liblinear failed to converge, increase \"\n"
     ]
    },
    {
     "data": {
      "text/plain": [
       "LinearSVR()"
      ]
     },
     "execution_count": 13,
     "metadata": {},
     "output_type": "execute_result"
    }
   ],
   "source": [
    "lin_svr = LinearSVR()\n",
    "lin_svr.fit(X_train_scaled, y_train)"
   ]
  },
  {
   "cell_type": "code",
   "execution_count": 15,
   "id": "personalized-holly",
   "metadata": {},
   "outputs": [],
   "source": [
    "y_pred = lin_svr.predict(X_train_scaled)"
   ]
  },
  {
   "cell_type": "code",
   "execution_count": 16,
   "id": "ongoing-senegal",
   "metadata": {},
   "outputs": [
    {
     "data": {
      "text/plain": [
       "1.1735581505623738"
      ]
     },
     "execution_count": 16,
     "metadata": {},
     "output_type": "execute_result"
    }
   ],
   "source": [
    "mse = mean_squared_error(y_train, y_pred)\n",
    "mse"
   ]
  },
  {
   "cell_type": "code",
   "execution_count": 17,
   "id": "exempt-terry",
   "metadata": {},
   "outputs": [
    {
     "data": {
      "text/plain": [
       "1.0833088897273824"
      ]
     },
     "execution_count": 17,
     "metadata": {},
     "output_type": "execute_result"
    }
   ],
   "source": [
    "np.sqrt(mse)"
   ]
  },
  {
   "cell_type": "code",
   "execution_count": 18,
   "id": "popular-purse",
   "metadata": {},
   "outputs": [
    {
     "name": "stdout",
     "output_type": "stream",
     "text": [
      "Fitting 3 folds for each of 10 candidates, totalling 30 fits\n",
      "[CV] END .....C=3.822977504262024, gamma=0.03586513938492875; total time=  14.9s\n",
      "[CV] END .....C=3.822977504262024, gamma=0.03586513938492875; total time=  15.2s\n",
      "[CV] END .....C=3.822977504262024, gamma=0.03586513938492875; total time=  14.5s\n",
      "[CV] END ....C=10.20997547257143, gamma=0.020343503008480333; total time=  14.1s\n",
      "[CV] END ....C=10.20997547257143, gamma=0.020343503008480333; total time=  15.1s\n",
      "[CV] END ....C=10.20997547257143, gamma=0.020343503008480333; total time=  15.2s\n",
      "[CV] END ....C=1.0544536622502512, gamma=0.08317988008431426; total time=  15.1s\n",
      "[CV] END ....C=1.0544536622502512, gamma=0.08317988008431426; total time=  15.3s\n",
      "[CV] END ....C=1.0544536622502512, gamma=0.08317988008431426; total time=  12.5s\n",
      "[CV] END .....C=1.981898753107452, gamma=0.04598336046804342; total time=  12.4s\n",
      "[CV] END .....C=1.981898753107452, gamma=0.04598336046804342; total time=  12.4s\n",
      "[CV] END .....C=1.981898753107452, gamma=0.04598336046804342; total time=  12.4s\n",
      "[CV] END ....C=9.85775354817603, gamma=0.0028282247407784714; total time=  12.8s\n",
      "[CV] END ....C=9.85775354817603, gamma=0.0028282247407784714; total time=  12.7s\n",
      "[CV] END ....C=9.85775354817603, gamma=0.0028282247407784714; total time=  12.7s\n",
      "[CV] END ...C=3.0199170984412005, gamma=0.004067318046055994; total time=  12.6s\n",
      "[CV] END ...C=3.0199170984412005, gamma=0.004067318046055994; total time=  12.4s\n",
      "[CV] END ...C=3.0199170984412005, gamma=0.004067318046055994; total time=  12.6s\n",
      "[CV] END .....C=7.667404200049266, gamma=0.04923638430563541; total time=  13.4s\n",
      "[CV] END .....C=7.667404200049266, gamma=0.04923638430563541; total time=  13.3s\n",
      "[CV] END .....C=7.667404200049266, gamma=0.04923638430563541; total time=  13.8s\n",
      "[CV] END ..C=2.7042320413696666, gamma=0.0026974819837703354; total time=  13.2s\n",
      "[CV] END ..C=2.7042320413696666, gamma=0.0026974819837703354; total time=  14.3s\n",
      "[CV] END ..C=2.7042320413696666, gamma=0.0026974819837703354; total time=  14.5s\n",
      "[CV] END ...C=1.2716399714026452, gamma=0.002971964407373796; total time=  14.9s\n",
      "[CV] END ...C=1.2716399714026452, gamma=0.002971964407373796; total time=  15.8s\n",
      "[CV] END ...C=1.2716399714026452, gamma=0.002971964407373796; total time=  13.0s\n",
      "[CV] END .....C=8.129709063076152, gamma=0.02254006021815577; total time=  13.8s\n",
      "[CV] END .....C=8.129709063076152, gamma=0.02254006021815577; total time=  16.6s\n",
      "[CV] END .....C=8.129709063076152, gamma=0.02254006021815577; total time=  15.3s\n"
     ]
    },
    {
     "data": {
      "text/plain": [
       "RandomizedSearchCV(cv=3, estimator=SVR(),\n",
       "                   param_distributions={'C': <scipy.stats._distn_infrastructure.rv_frozen object at 0x11a231760>,\n",
       "                                        'gamma': <scipy.stats._distn_infrastructure.rv_frozen object at 0x11ad43f70>},\n",
       "                   verbose=2)"
      ]
     },
     "execution_count": 18,
     "metadata": {},
     "output_type": "execute_result"
    }
   ],
   "source": [
    "param_distributions = {\"gamma\": reciprocal(0.001, 0.1), \"C\": uniform(1, 10)}\n",
    "rnd_search_cv = RandomizedSearchCV(SVR(), param_distributions, n_iter=10, verbose=2, cv=3)\n",
    "rnd_search_cv.fit(X_train_scaled, y_train)"
   ]
  },
  {
   "cell_type": "code",
   "execution_count": 24,
   "id": "destroyed-property",
   "metadata": {},
   "outputs": [
    {
     "data": {
      "text/plain": [
       "SVR(C=7.667404200049266, gamma=0.04923638430563541)"
      ]
     },
     "execution_count": 24,
     "metadata": {},
     "output_type": "execute_result"
    }
   ],
   "source": [
    "best_estimator = rnd_search_cv.best_estimator_\n",
    "best_estimator"
   ]
  },
  {
   "cell_type": "code",
   "execution_count": 26,
   "id": "received-auckland",
   "metadata": {},
   "outputs": [
    {
     "data": {
      "text/plain": [
       "0.5878066846911257"
      ]
     },
     "execution_count": 26,
     "metadata": {},
     "output_type": "execute_result"
    }
   ],
   "source": [
    "y_pred = best_estimator.predict(X_train_scaled)\n",
    "mse = mean_squared_error(y_train, y_pred)\n",
    "np.sqrt(mse)"
   ]
  },
  {
   "cell_type": "code",
   "execution_count": 27,
   "id": "differential-masters",
   "metadata": {},
   "outputs": [
    {
     "data": {
      "text/plain": [
       "0.6811785910857753"
      ]
     },
     "execution_count": 27,
     "metadata": {},
     "output_type": "execute_result"
    }
   ],
   "source": [
    "y_pred = best_estimator.predict(X_test_scaled)\n",
    "mse = mean_squared_error(y_test, y_pred)\n",
    "np.sqrt(mse)"
   ]
  }
 ],
 "metadata": {
  "kernelspec": {
   "display_name": "Python 3",
   "language": "python",
   "name": "python3"
  },
  "language_info": {
   "codemirror_mode": {
    "name": "ipython",
    "version": 3
   },
   "file_extension": ".py",
   "mimetype": "text/x-python",
   "name": "python",
   "nbconvert_exporter": "python",
   "pygments_lexer": "ipython3",
   "version": "3.9.1"
  }
 },
 "nbformat": 4,
 "nbformat_minor": 5
}
