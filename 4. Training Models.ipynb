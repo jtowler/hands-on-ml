{
 "cells": [
  {
   "cell_type": "code",
   "execution_count": 84,
   "id": "metric-finland",
   "metadata": {},
   "outputs": [],
   "source": [
    "import numpy as np\n",
    "import matplotlib.pyplot as plt\n",
    "\n",
    "from sklearn.linear_model import LinearRegression, SGDRegressor, Ridge, Lasso, ElasticNet, LogisticRegression\n",
    "from sklearn.preprocessing import PolynomialFeatures, StandardScaler\n",
    "from sklearn.metrics import mean_squared_error\n",
    "from sklearn.model_selection import train_test_split\n",
    "from sklearn.pipeline import Pipeline\n",
    "from sklearn.base import clone\n",
    "from sklearn import datasets\n",
    "\n",
    "%matplotlib inline"
   ]
  },
  {
   "cell_type": "markdown",
   "id": "fiscal-humanity",
   "metadata": {},
   "source": [
    "### Linear Regression"
   ]
  },
  {
   "cell_type": "markdown",
   "id": "independent-arrival",
   "metadata": {},
   "source": [
    "$$ life\\_satisfaction = \\theta _{0} + \\theta _{1} \\times GDP\\_per\\_capita $$\n",
    "\n",
    "$$ \\widehat{y} = \\theta _{0} + \\theta _{1}x_{1} + \\theta _{2}x_{2} + ... +  \\theta _{n}x_{n} $$\n",
    "\n",
    "$$ \\widehat{y} = h_{\\mathbf{\\theta }}\\left ( \\mathbf{x} \\right ) = \\mathbf{\\theta }\\cdot \\mathbf{x} $$\n",
    "\n",
    "$$ \\mathrm{MSE}(\\mathbf{X}, h_{\\mathrm{\\theta}}) = \\frac{1}{m}\\sum_{i = 1}^{m}(\\mathbf{\\theta}^{\\top } x^{(i)} - y^{(i)})^{2} $$"
   ]
  },
  {
   "cell_type": "markdown",
   "id": "atomic-million",
   "metadata": {},
   "source": [
    "### The Normal Equation"
   ]
  },
  {
   "cell_type": "markdown",
   "id": "going-advance",
   "metadata": {},
   "source": [
    "$$ \\widehat{\\theta} = (X^{\\top}X)^{-1} X^{\\top} y $$"
   ]
  },
  {
   "cell_type": "code",
   "execution_count": 77,
   "id": "biological-serum",
   "metadata": {},
   "outputs": [],
   "source": [
    "X = 2 * np.random.rand(100, 1)\n",
    "y = 4 + 3 * X + np.random.randn(100, 1)"
   ]
  },
  {
   "cell_type": "code",
   "execution_count": 5,
   "id": "mature-durham",
   "metadata": {},
   "outputs": [],
   "source": [
    "X_b = np.c_[np.ones((100, 1)), X]  # add x0 = 1 to each instance"
   ]
  },
  {
   "cell_type": "code",
   "execution_count": 8,
   "id": "heated-stocks",
   "metadata": {},
   "outputs": [],
   "source": [
    "theta_best = np.linalg.inv(X_b.T.dot(X_b)).dot(X_b.T).dot(y)"
   ]
  },
  {
   "cell_type": "code",
   "execution_count": 9,
   "id": "racial-bread",
   "metadata": {},
   "outputs": [
    {
     "data": {
      "text/plain": [
       "array([[3.97280799],\n",
       "       [2.94890074]])"
      ]
     },
     "execution_count": 9,
     "metadata": {},
     "output_type": "execute_result"
    }
   ],
   "source": [
    "theta_best"
   ]
  },
  {
   "cell_type": "code",
   "execution_count": 10,
   "id": "vocational-flooring",
   "metadata": {},
   "outputs": [
    {
     "data": {
      "text/plain": [
       "array([[3.97280799],\n",
       "       [9.87060946]])"
      ]
     },
     "execution_count": 10,
     "metadata": {},
     "output_type": "execute_result"
    }
   ],
   "source": [
    "X_new = np.array([[0], [2]])\n",
    "X_new_b = np.c_[np.ones((2, 1)), X_new] # add x0 = 1 to each instance\n",
    "y_predict = X_new_b.dot(theta_best)\n",
    "y_predict"
   ]
  },
  {
   "cell_type": "code",
   "execution_count": 14,
   "id": "quiet-flood",
   "metadata": {},
   "outputs": [
    {
     "data": {
      "image/png": "[encoded data removed]",
      "text/plain": [
       "<Figure size 432x288 with 1 Axes>"
      ]
     },
     "metadata": {
      "needs_background": "light"
     },
     "output_type": "display_data"
    }
   ],
   "source": [
    "plt.plot(X_new, y_predict, 'r-')\n",
    "plt.plot(X, y, 'b.')\n",
    "plt.axis([0, 2, 0, 15])\n",
    "plt.xlabel('X_1')\n",
    "plt.ylabel('y')\n",
    "plt.show()"
   ]
  },
  {
   "cell_type": "code",
   "execution_count": 18,
   "id": "tamil-radiation",
   "metadata": {},
   "outputs": [
    {
     "data": {
      "text/plain": [
       "(array([3.97280799]), array([[2.94890074]]))"
      ]
     },
     "execution_count": 18,
     "metadata": {},
     "output_type": "execute_result"
    }
   ],
   "source": [
    "lin_reg = LinearRegression()\n",
    "lin_reg.fit(X, y)\n",
    "lin_reg.intercept_, lin_reg.coef_"
   ]
  },
  {
   "cell_type": "code",
   "execution_count": 19,
   "id": "extended-briefing",
   "metadata": {},
   "outputs": [
    {
     "data": {
      "text/plain": [
       "array([[3.97280799],\n",
       "       [9.87060946]])"
      ]
     },
     "execution_count": 19,
     "metadata": {},
     "output_type": "execute_result"
    }
   ],
   "source": [
    "lin_reg.predict(X_new)"
   ]
  },
  {
   "cell_type": "code",
   "execution_count": 20,
   "id": "extended-headline",
   "metadata": {},
   "outputs": [
    {
     "data": {
      "text/plain": [
       "array([[3.97280799],\n",
       "       [2.94890074]])"
      ]
     },
     "execution_count": 20,
     "metadata": {},
     "output_type": "execute_result"
    }
   ],
   "source": [
    "theta_best_svd, residuals, rank, s = np.linalg.lstsq(X_b, y, rcond=1e-6)\n",
    "theta_best_svd"
   ]
  },
  {
   "cell_type": "code",
   "execution_count": 21,
   "id": "homeless-equivalent",
   "metadata": {},
   "outputs": [
    {
     "data": {
      "text/plain": [
       "array([[3.97280799],\n",
       "       [2.94890074]])"
      ]
     },
     "execution_count": 21,
     "metadata": {},
     "output_type": "execute_result"
    }
   ],
   "source": [
    "np.linalg.pinv(X_b).dot(y)"
   ]
  },
  {
   "cell_type": "markdown",
   "id": "valid-contrary",
   "metadata": {},
   "source": [
    "### Batch Gradient Descent\n",
    "\n",
    "$$ \\frac{\\partial }{\\partial \\theta_{j}}\\mathrm{MSE(\\theta)} = \\frac{2}{m}\\sum_{i = 1}^{m}(\\theta^{\\top}x^{(i)} - y^{(i)})x_{j}^{(i)} $$\n",
    "\n",
    "$$ \\nabla_{\\theta}\\mathrm{\\theta} = \\begin{pmatrix}\n",
    "\\frac{\\partial }{\\partial \\theta_{0}}\\mathrm{MSE}(\\theta)\\\\ \n",
    "\\frac{\\partial }{\\partial \\theta_{1}}\\mathrm{MSE}(\\theta)\\\\ \n",
    "\\vdots \\\\ \n",
    "\\frac{\\partial }{\\partial \\theta_{n}}\\mathrm{MSE}(\\theta)\n",
    "\\end{pmatrix} = \\frac{2}{m}X^{\\top}(X\\theta - y) $$\n",
    "\n",
    "$$ \\theta^{(next step)} = \\theta - \\eta \\nabla_{\\theta}\\mathrm{MSE}(\\theta) $$"
   ]
  },
  {
   "cell_type": "code",
   "execution_count": 22,
   "id": "invalid-script",
   "metadata": {},
   "outputs": [],
   "source": [
    "eta = 0.1\n",
    "n_iterations = 1000\n",
    "m = 100"
   ]
  },
  {
   "cell_type": "code",
   "execution_count": 23,
   "id": "empty-expense",
   "metadata": {},
   "outputs": [],
   "source": [
    "theta = np.random.randn(2, 1) # random initialisation"
   ]
  },
  {
   "cell_type": "code",
   "execution_count": 25,
   "id": "incorporated-guinea",
   "metadata": {},
   "outputs": [],
   "source": [
    "for iteration in range(n_iterations):\n",
    "    gradients = 2 / m * X_b.T.dot(X_b.dot(theta) - y)\n",
    "    theta = theta - eta * gradients"
   ]
  },
  {
   "cell_type": "code",
   "execution_count": 26,
   "id": "indonesian-guess",
   "metadata": {},
   "outputs": [
    {
     "data": {
      "text/plain": [
       "array([[3.97280799],\n",
       "       [2.94890074]])"
      ]
     },
     "execution_count": 26,
     "metadata": {},
     "output_type": "execute_result"
    }
   ],
   "source": [
    "theta"
   ]
  },
  {
   "cell_type": "markdown",
   "id": "future-shannon",
   "metadata": {},
   "source": [
    "### Stochastic Gradient Descent"
   ]
  },
  {
   "cell_type": "code",
   "execution_count": 27,
   "id": "acute-fault",
   "metadata": {},
   "outputs": [],
   "source": [
    "n_epochs = 50\n",
    "t0, t1 = 5, 50 # learning schedule hyperparameters"
   ]
  },
  {
   "cell_type": "code",
   "execution_count": 28,
   "id": "spatial-yeast",
   "metadata": {},
   "outputs": [],
   "source": [
    "def learning_schedule(t):\n",
    "    return t0 / (t + t1)"
   ]
  },
  {
   "cell_type": "code",
   "execution_count": 29,
   "id": "hungarian-pharmaceutical",
   "metadata": {},
   "outputs": [],
   "source": [
    "theta = np.random.randn(2, 1)"
   ]
  },
  {
   "cell_type": "code",
   "execution_count": 31,
   "id": "decimal-safety",
   "metadata": {},
   "outputs": [],
   "source": [
    "for epoch in range(n_epochs):\n",
    "    for i in range(m):\n",
    "        random_index = np.random.randint(m)\n",
    "        xi = X_b[random_index:random_index+1]\n",
    "        yi = y[random_index:random_index+1]\n",
    "        gradients = 2 * xi.T.dot(xi.dot(theta) - yi)\n",
    "        eta = learning_schedule(epoch * m + i)\n",
    "        theta = theta - eta * gradients"
   ]
  },
  {
   "cell_type": "code",
   "execution_count": 32,
   "id": "chubby-tractor",
   "metadata": {},
   "outputs": [
    {
     "data": {
      "text/plain": [
       "array([[3.96677097],\n",
       "       [2.96297088]])"
      ]
     },
     "execution_count": 32,
     "metadata": {},
     "output_type": "execute_result"
    }
   ],
   "source": [
    "theta"
   ]
  },
  {
   "cell_type": "code",
   "execution_count": 34,
   "id": "parliamentary-withdrawal",
   "metadata": {},
   "outputs": [
    {
     "data": {
      "text/plain": [
       "SGDRegressor(eta0=0.1, penalty=None)"
      ]
     },
     "execution_count": 34,
     "metadata": {},
     "output_type": "execute_result"
    }
   ],
   "source": [
    "sgd_reg = SGDRegressor(max_iter=1000, tol=1e-3, penalty=None, eta0=0.1)\n",
    "sgd_reg.fit(X, y.ravel())"
   ]
  },
  {
   "cell_type": "code",
   "execution_count": 37,
   "id": "southwest-attendance",
   "metadata": {},
   "outputs": [
    {
     "data": {
      "text/plain": [
       "(array([4.00307919]), array([3.00382583]))"
      ]
     },
     "execution_count": 37,
     "metadata": {},
     "output_type": "execute_result"
    }
   ],
   "source": [
    "sgd_reg.intercept_, sgd_reg.coef_"
   ]
  },
  {
   "cell_type": "markdown",
   "id": "latin-spoke",
   "metadata": {},
   "source": [
    "### Polynomial Regression"
   ]
  },
  {
   "cell_type": "code",
   "execution_count": 46,
   "id": "affecting-trademark",
   "metadata": {},
   "outputs": [],
   "source": [
    "m = 100\n",
    "X = 6 * np.random.rand(m, 1) - 3\n",
    "y = 0.5 * X ** 2 + X + 2 + np.random.randn(m, 1)"
   ]
  },
  {
   "cell_type": "code",
   "execution_count": 48,
   "id": "proper-poetry",
   "metadata": {},
   "outputs": [
    {
     "data": {
      "image/png": "[encoded data removed]",
      "text/plain": [
       "<Figure size 432x288 with 1 Axes>"
      ]
     },
     "metadata": {
      "needs_background": "light"
     },
     "output_type": "display_data"
    }
   ],
   "source": [
    "plt.plot(X, y, 'x')\n",
    "plt.show()"
   ]
  },
  {
   "cell_type": "code",
   "execution_count": 50,
   "id": "rough-function",
   "metadata": {},
   "outputs": [],
   "source": [
    "poly_features = PolynomialFeatures(degree=2, include_bias=False)\n",
    "X_poly = poly_features.fit_transform(X)"
   ]
  },
  {
   "cell_type": "code",
   "execution_count": 51,
   "id": "political-baseline",
   "metadata": {},
   "outputs": [
    {
     "data": {
      "text/plain": [
       "array([0.30562178])"
      ]
     },
     "execution_count": 51,
     "metadata": {},
     "output_type": "execute_result"
    }
   ],
   "source": [
    "X[0]"
   ]
  },
  {
   "cell_type": "code",
   "execution_count": 52,
   "id": "rough-torture",
   "metadata": {},
   "outputs": [
    {
     "data": {
      "text/plain": [
       "array([0.30562178, 0.09340467])"
      ]
     },
     "execution_count": 52,
     "metadata": {},
     "output_type": "execute_result"
    }
   ],
   "source": [
    "X_poly[0]"
   ]
  },
  {
   "cell_type": "code",
   "execution_count": 53,
   "id": "organic-priority",
   "metadata": {},
   "outputs": [
    {
     "data": {
      "text/plain": [
       "(array([2.2272149]), array([[1.04989665, 0.44844876]]))"
      ]
     },
     "execution_count": 53,
     "metadata": {},
     "output_type": "execute_result"
    }
   ],
   "source": [
    "lin_reg = LinearRegression()\n",
    "lin_reg.fit(X_poly, y)\n",
    "lin_reg.intercept_, lin_reg.coef_"
   ]
  },
  {
   "cell_type": "markdown",
   "id": "emotional-stadium",
   "metadata": {},
   "source": [
    "### Learning Curves"
   ]
  },
  {
   "cell_type": "code",
   "execution_count": 56,
   "id": "altered-manitoba",
   "metadata": {},
   "outputs": [],
   "source": [
    "def plot_learning_curves(model, X, y):\n",
    "    X_train, X_val, y_train, y_val = train_test_split(X, y, test_size=0.2)\n",
    "    train_errors, val_errors = [], []\n",
    "    for m in range(1, len(X_train)):\n",
    "        model.fit(X_train[:m], y_train[:m])\n",
    "        y_train_predict = model.predict(X_train[:m])\n",
    "        y_val_predict = model.predict(X_val)\n",
    "        train_errors.append(mean_squared_error(y_train[:m], y_train_predict))\n",
    "        val_errors.append(mean_squared_error(y_val, y_val_predict))\n",
    "    plt.plot(np.sqrt(train_errors), 'r-+', linewidth=2, label='train')\n",
    "    plt.plot(np.sqrt(val_errors), 'b-', linewidth=3, label='val')"
   ]
  },
  {
   "cell_type": "code",
   "execution_count": 57,
   "id": "incredible-contract",
   "metadata": {},
   "outputs": [
    {
     "data": {
      "image/png": "[encoded data removed]",
      "text/plain": [
       "<Figure size 432x288 with 1 Axes>"
      ]
     },
     "metadata": {
      "needs_background": "light"
     },
     "output_type": "display_data"
    }
   ],
   "source": [
    "plot_learning_curves(lin_reg, X, y)"
   ]
  },
  {
   "cell_type": "code",
   "execution_count": 59,
   "id": "legendary-limit",
   "metadata": {},
   "outputs": [],
   "source": [
    "polynomial_regression = Pipeline([\n",
    "    ('poly_features', PolynomialFeatures(degree=10, include_bias=False)),\n",
    "    ('lin_reg', LinearRegression())\n",
    "])"
   ]
  },
  {
   "cell_type": "code",
   "execution_count": 60,
   "id": "apart-trigger",
   "metadata": {},
   "outputs": [
    {
     "data": {
      "image/png": "[encoded data removed]",
      "text/plain": [
       "<Figure size 432x288 with 1 Axes>"
      ]
     },
     "metadata": {
      "needs_background": "light"
     },
     "output_type": "display_data"
    }
   ],
   "source": [
    "plot_learning_curves(polynomial_regression, X, y)"
   ]
  },
  {
   "cell_type": "markdown",
   "id": "laughing-october",
   "metadata": {},
   "source": [
    "### Ridge Regression\n",
    "\n",
    "$$ J(\\theta) = \\mathrm{MSE}(\\theta) + \\alpha\\frac{1}{2}\\sum_{i = 1}^{n} \\theta_{i}^{2} $$\n",
    "\n",
    "$$ \\widehat{\\theta} = (X^{\\top}X + \\alpha A)^{-1} X^{\\top} y $$"
   ]
  },
  {
   "cell_type": "code",
   "execution_count": 62,
   "id": "lightweight-nomination",
   "metadata": {},
   "outputs": [
    {
     "data": {
      "text/plain": [
       "array([[4.88395278]])"
      ]
     },
     "execution_count": 62,
     "metadata": {},
     "output_type": "execute_result"
    }
   ],
   "source": [
    "ridge_reg = Ridge(alpha=1, solver='cholesky')\n",
    "ridge_reg.fit(X, y)\n",
    "ridge_reg.predict([[1.5]])"
   ]
  },
  {
   "cell_type": "code",
   "execution_count": 63,
   "id": "unlimited-feeling",
   "metadata": {},
   "outputs": [
    {
     "data": {
      "text/plain": [
       "array([4.85912014])"
      ]
     },
     "execution_count": 63,
     "metadata": {},
     "output_type": "execute_result"
    }
   ],
   "source": [
    "sgd_reg = SGDRegressor(penalty='l2')\n",
    "sgd_reg.fit(X, y.ravel())\n",
    "sgd_reg.predict([[1.5]])"
   ]
  },
  {
   "cell_type": "markdown",
   "id": "therapeutic-earth",
   "metadata": {},
   "source": [
    "### Lasso Regression\n",
    "\n",
    "$$ J(\\theta) = \\mathrm{MSE}(\\theta) + \\alpha\\frac{1}{2}\\sum_{i = 1}^{n} |\\theta_{i}| $$\n",
    "\n",
    "$$ g(\\theta, J) = \\nabla_{\\theta}\\mathrm{MSE}(\\theta) + \\alpha\\begin{pmatrix}\n",
    "\\mathrm{sign}(\\theta_{1})\n",
    "\\\\\\mathrm{sign}(\\theta_{2}) \n",
    "\\\\ \\vdots \n",
    "\\\\\\mathrm{sign}(\\theta_{n}) \n",
    "\\end{pmatrix} \\mathrm{where\\ sign}(\\theta_{i}) = \\left\\{\\begin{matrix}\n",
    "-1\\ \\mathrm{if}\\ \\theta_{i} < 0\n",
    "\\\\0\\ \\mathrm{if}\\ \\theta_{i} = 0 \n",
    "\\\\ +1\\ \\mathrm{if}\\ \\theta_{i} > 0\n",
    "\\end{matrix}\\right. $$"
   ]
  },
  {
   "cell_type": "code",
   "execution_count": 65,
   "id": "civil-nicholas",
   "metadata": {},
   "outputs": [
    {
     "data": {
      "text/plain": [
       "array([4.8345533])"
      ]
     },
     "execution_count": 65,
     "metadata": {},
     "output_type": "execute_result"
    }
   ],
   "source": [
    "lasso_reg = Lasso(alpha=0.1)\n",
    "lasso_reg.fit(X, y)\n",
    "lasso_reg.predict([[1.5]])"
   ]
  },
  {
   "cell_type": "code",
   "execution_count": 66,
   "id": "proof-thousand",
   "metadata": {},
   "outputs": [
    {
     "data": {
      "text/plain": [
       "array([4.85981966])"
      ]
     },
     "execution_count": 66,
     "metadata": {},
     "output_type": "execute_result"
    }
   ],
   "source": [
    "sgd_reg = SGDRegressor(penalty='l1')\n",
    "sgd_reg.fit(X, y.ravel())\n",
    "sgd_reg.predict([[1.5]])"
   ]
  },
  {
   "cell_type": "markdown",
   "id": "particular-conspiracy",
   "metadata": {},
   "source": [
    "### Elastic Net"
   ]
  },
  {
   "cell_type": "markdown",
   "id": "coastal-priority",
   "metadata": {},
   "source": [
    "$$ J(\\theta) = \\mathrm{MSE}(\\theta) + r \\alpha\\sum_{i = 1}^{n} |\\theta_{i}| + \\frac{1 - r}{2} \\alpha \\sum_{i = 1}^{n} \\theta_{i}^{2}$$"
   ]
  },
  {
   "cell_type": "code",
   "execution_count": 69,
   "id": "focal-google",
   "metadata": {},
   "outputs": [
    {
     "data": {
      "text/plain": [
       "array([4.83577884])"
      ]
     },
     "execution_count": 69,
     "metadata": {},
     "output_type": "execute_result"
    }
   ],
   "source": [
    "elastic_net = ElasticNet(alpha=0.1, l1_ratio=0.5)\n",
    "elastic_net.fit(X, y)\n",
    "elastic_net.predict([[1.5]])"
   ]
  },
  {
   "cell_type": "markdown",
   "id": "pleasant-folks",
   "metadata": {},
   "source": [
    "### Early Stopping"
   ]
  },
  {
   "cell_type": "code",
   "execution_count": 72,
   "id": "toxic-charlotte",
   "metadata": {},
   "outputs": [
    {
     "ename": "NameError",
     "evalue": "name 'X_train' is not defined",
     "output_type": "error",
     "traceback": [
      "\u001b[0;31m---------------------------------------------------------------------------\u001b[0m",
      "\u001b[0;31mNameError\u001b[0m                                 Traceback (most recent call last)",
      "\u001b[0;32m<ipython-input-72-5dca50173ab8>\u001b[0m in \u001b[0;36m<module>\u001b[0;34m\u001b[0m\n\u001b[1;32m      4\u001b[0m     \u001b[0;34m(\u001b[0m\u001b[0;34m'std_scaler'\u001b[0m\u001b[0;34m,\u001b[0m \u001b[0mStandardScaler\u001b[0m\u001b[0;34m(\u001b[0m\u001b[0;34m)\u001b[0m\u001b[0;34m)\u001b[0m\u001b[0;34m\u001b[0m\u001b[0;34m\u001b[0m\u001b[0m\n\u001b[1;32m      5\u001b[0m ])\n\u001b[0;32m----> 6\u001b[0;31m \u001b[0mX_train_poly_scaled\u001b[0m \u001b[0;34m=\u001b[0m \u001b[0mpoly_scaler\u001b[0m\u001b[0;34m.\u001b[0m\u001b[0mfit_transform\u001b[0m\u001b[0;34m(\u001b[0m\u001b[0mX_train\u001b[0m\u001b[0;34m)\u001b[0m\u001b[0;34m\u001b[0m\u001b[0;34m\u001b[0m\u001b[0m\n\u001b[0m\u001b[1;32m      7\u001b[0m \u001b[0mX_val_poly_scaled\u001b[0m \u001b[0;34m=\u001b[0m \u001b[0mpoly_scaler\u001b[0m\u001b[0;34m.\u001b[0m\u001b[0mtransform\u001b[0m\u001b[0;34m(\u001b[0m\u001b[0mX_val\u001b[0m\u001b[0;34m)\u001b[0m\u001b[0;34m\u001b[0m\u001b[0;34m\u001b[0m\u001b[0m\n",
      "\u001b[0;31mNameError\u001b[0m: name 'X_train' is not defined"
     ]
    }
   ],
   "source": [
    "#prepare the data\n",
    "poly_scaler = Pipeline([\n",
    "    ('poly_features', PolynomialFeatures(degree=90, include_bias=False)),\n",
    "    ('std_scaler', StandardScaler())\n",
    "])\n",
    "X_train_poly_scaled = poly_scaler.fit_transform(X_train)\n",
    "X_val_poly_scaled = poly_scaler.transform(X_val)"
   ]
  },
  {
   "cell_type": "code",
   "execution_count": 73,
   "id": "substantial-botswana",
   "metadata": {},
   "outputs": [],
   "source": [
    "sgd_reg = SGDRegressor(max_iter=1, tol=-np.infty, warm_start=True, \n",
    "                       penalty=None, learning_rate='constant', eta0=0.0005)"
   ]
  },
  {
   "cell_type": "code",
   "execution_count": 74,
   "id": "terminal-paradise",
   "metadata": {},
   "outputs": [
    {
     "ename": "NameError",
     "evalue": "name 'X_train_poly_scaled' is not defined",
     "output_type": "error",
     "traceback": [
      "\u001b[0;31m---------------------------------------------------------------------------\u001b[0m",
      "\u001b[0;31mNameError\u001b[0m                                 Traceback (most recent call last)",
      "\u001b[0;32m<ipython-input-74-0e8ca06f19b3>\u001b[0m in \u001b[0;36m<module>\u001b[0;34m\u001b[0m\n\u001b[1;32m      3\u001b[0m \u001b[0mbest_model\u001b[0m \u001b[0;34m=\u001b[0m \u001b[0;32mNone\u001b[0m\u001b[0;34m\u001b[0m\u001b[0;34m\u001b[0m\u001b[0m\n\u001b[1;32m      4\u001b[0m \u001b[0;32mfor\u001b[0m \u001b[0mepoch\u001b[0m \u001b[0;32min\u001b[0m \u001b[0mrange\u001b[0m\u001b[0;34m(\u001b[0m\u001b[0;36m1000\u001b[0m\u001b[0;34m)\u001b[0m\u001b[0;34m:\u001b[0m\u001b[0;34m\u001b[0m\u001b[0;34m\u001b[0m\u001b[0m\n\u001b[0;32m----> 5\u001b[0;31m     \u001b[0msgd_reg\u001b[0m\u001b[0;34m.\u001b[0m\u001b[0mfit\u001b[0m\u001b[0;34m(\u001b[0m\u001b[0mX_train_poly_scaled\u001b[0m\u001b[0;34m,\u001b[0m \u001b[0my_train\u001b[0m\u001b[0;34m)\u001b[0m\u001b[0;34m\u001b[0m\u001b[0;34m\u001b[0m\u001b[0m\n\u001b[0m\u001b[1;32m      6\u001b[0m     \u001b[0my_val_predict\u001b[0m \u001b[0;34m=\u001b[0m \u001b[0msgd_reg\u001b[0m\u001b[0;34m.\u001b[0m\u001b[0mpredict\u001b[0m\u001b[0;34m(\u001b[0m\u001b[0mX_val_poly_scaled\u001b[0m\u001b[0;34m)\u001b[0m\u001b[0;34m\u001b[0m\u001b[0;34m\u001b[0m\u001b[0m\n\u001b[1;32m      7\u001b[0m     \u001b[0mval_error\u001b[0m \u001b[0;34m=\u001b[0m \u001b[0mmean_squared_error\u001b[0m\u001b[0;34m(\u001b[0m\u001b[0my_val\u001b[0m\u001b[0;34m,\u001b[0m \u001b[0my_val_predict\u001b[0m\u001b[0;34m)\u001b[0m\u001b[0;34m\u001b[0m\u001b[0;34m\u001b[0m\u001b[0m\n",
      "\u001b[0;31mNameError\u001b[0m: name 'X_train_poly_scaled' is not defined"
     ]
    }
   ],
   "source": [
    "minimum_val_error = float('inf')\n",
    "best_epoch = None\n",
    "best_model = None\n",
    "for epoch in range(1000):\n",
    "    sgd_reg.fit(X_train_poly_scaled, y_train)\n",
    "    y_val_predict = sgd_reg.predict(X_val_poly_scaled)\n",
    "    val_error = mean_squared_error(y_val, y_val_predict)\n",
    "    if val_error < minimum_val_error:\n",
    "        minimum_val_error = val_error\n",
    "        best_epoch = epoch\n",
    "        best_model = clone(sgd_reg)"
   ]
  },
  {
   "cell_type": "markdown",
   "id": "municipal-humanitarian",
   "metadata": {},
   "source": [
    "### Estimating Probabilities\n",
    "\n",
    "$$ \\widehat{p} = h_{\\theta}(x) = \\sigma(x^{\\top}\\theta) $$\n",
    "\n",
    "$$ \\sigma (t) = \\frac{1}{1 + \\exp (-t)} $$"
   ]
  },
  {
   "cell_type": "code",
   "execution_count": 80,
   "id": "occupational-tunnel",
   "metadata": {},
   "outputs": [
    {
     "data": {
      "image/png": "[encoded data removed]",
      "text/plain": [
       "<Figure size 432x288 with 1 Axes>"
      ]
     },
     "metadata": {
      "needs_background": "light"
     },
     "output_type": "display_data"
    }
   ],
   "source": [
    "xp = np.linspace(-10, 10, 1000)\n",
    "yp = 1 / (1 + np.exp(-xp))\n",
    "plt.plot(xp, yp)\n",
    "plt.grid()\n",
    "plt.show()"
   ]
  },
  {
   "cell_type": "markdown",
   "id": "israeli-cause",
   "metadata": {},
   "source": [
    "$$ \\widehat{y} = \\left\\{\\begin{matrix}\n",
    "0\\ \\mathrm{if}\\ \\widehat{p} < 0.5\n",
    "\\\\ 1\\ \\mathrm{if}\\ \\widehat{p} \\geq  0.5\n",
    "\\end{matrix}\\right. $$\n",
    "\n",
    "### Training and Cost Function\n",
    "\n",
    "$$ c(\\theta) = \\left\\{\\begin{matrix}\n",
    "-\\log{(\\widehat{p})}\\ \\mathrm{if}\\ y = 1\n",
    "\\\\-\\log{(1 - \\widehat{p})}\\ \\mathrm{if}\\ y = 0\n",
    "\\end{matrix}\\right. $$\n",
    "\n",
    "$$ J(\\theta) = -\\frac{1}{m}\\sum_{i=1}^{m}[y^{(i)}log(\\widehat{p}^{(i)}) + (1 - y^{(i)})log(1 - \\widehat{p}^{(i)})] $$\n",
    "\n",
    "\n",
    "$$ \\frac{\\partial }{\\partial \\theta_{j}}\\mathrm{J(\\theta)} = \\frac{1}{m}\\sum_{i = 1}^{m}(\\sigma(\\theta^{\\top}x^{(i)}) - y^{(i)})x_{j}^{(i)} $$\n",
    "\n",
    "### Decision Boundaries"
   ]
  },
  {
   "cell_type": "code",
   "execution_count": 82,
   "id": "detected-coaching",
   "metadata": {},
   "outputs": [
    {
     "data": {
      "text/plain": [
       "['data',\n",
       " 'target',\n",
       " 'frame',\n",
       " 'target_names',\n",
       " 'DESCR',\n",
       " 'feature_names',\n",
       " 'filename']"
      ]
     },
     "execution_count": 82,
     "metadata": {},
     "output_type": "execute_result"
    }
   ],
   "source": [
    "iris = datasets.load_iris()\n",
    "list(iris.keys())"
   ]
  },
  {
   "cell_type": "code",
   "execution_count": 86,
   "id": "serial-given",
   "metadata": {},
   "outputs": [],
   "source": [
    "X = iris['data'][:, 3:] # petal width\n",
    "y = (iris['target'] == 2).astype(int) # 1 if Iris virginica else 0"
   ]
  },
  {
   "cell_type": "code",
   "execution_count": 87,
   "id": "induced-observation",
   "metadata": {},
   "outputs": [
    {
     "data": {
      "text/plain": [
       "LogisticRegression()"
      ]
     },
     "execution_count": 87,
     "metadata": {},
     "output_type": "execute_result"
    }
   ],
   "source": [
    "log_reg = LogisticRegression()\n",
    "log_reg.fit(X, y)"
   ]
  },
  {
   "cell_type": "code",
   "execution_count": 89,
   "id": "round-winner",
   "metadata": {},
   "outputs": [
    {
     "data": {
      "image/png": "[encoded data removed]",
      "text/plain": [
       "<Figure size 432x288 with 1 Axes>"
      ]
     },
     "metadata": {
      "needs_background": "light"
     },
     "output_type": "display_data"
    }
   ],
   "source": [
    "X_new = np.linspace(0, 3, 1000).reshape(-1, 1)\n",
    "y_proba = log_reg.predict_proba(X_new)\n",
    "plt.plot(X_new, y_proba[:, 1], 'g-', label='Iris virginica')\n",
    "plt.plot(X_new, y_proba[:, 0], 'b--', label='Not iris viriginica')\n",
    "plt.legend()\n",
    "plt.grid()\n",
    "plt.xlabel('Petal Width (cm)'); plt.ylabel('Probability')\n",
    "plt.show()"
   ]
  },
  {
   "cell_type": "code",
   "execution_count": 90,
   "id": "significant-worse",
   "metadata": {},
   "outputs": [
    {
     "data": {
      "text/plain": [
       "array([1, 0])"
      ]
     },
     "execution_count": 90,
     "metadata": {},
     "output_type": "execute_result"
    }
   ],
   "source": [
    "log_reg.predict([[1.7], [1.5]])"
   ]
  },
  {
   "cell_type": "markdown",
   "id": "super-republican",
   "metadata": {},
   "source": [
    "### Softmax Regression\n",
    "\n",
    "$$ s_{k}(\\mathbf{x}) = \\mathbf{x}^{\\top}\\theta^{(k)} $$\n",
    "\n",
    "$$ \\widehat{p}_{k} = \\sigma(\\mathbf{s}(\\mathbf{x}))_{k} = \\frac{\\exp(s_{k}(\\mathbf{x}))}{\\sum_{j = 1}^{K}\\exp(s_{j}(\\mathbf{x}))} $$\n",
    "\n",
    "$$ \\widehat{y} = \\underset{k}{\\mathrm{argmax}}\\ \\sigma(\\mathbf{s}(\\mathbf{x}))_{k} = \\underset{k}{\\mathrm{argmax}}\\ s_{k}(\\mathbf{x}) = \\underset{k}{\\mathrm{argmax}}\\ ((\\theta^{(k)})^{\\top}\\mathbf{x}) $$\n",
    "\n",
    "$$ J(\\Theta) = -\\frac{1}{m}\\sum_{i = 1}^{m}\\sum_{k = 1}^{K}y_{k}^{(i)}\\log(\\widehat{p}_{k}^{(i)}) $$\n",
    "\n",
    "$$ \\nabla_{\\theta^{(k)}}J(\\Theta) = \\frac{1}{m}\\sum_{i = 1}^{m}(\\widehat{p}_{k}^{(i)} - y_{k}^{(i)})\\mathbf{x}^{(i)} $$"
   ]
  },
  {
   "cell_type": "code",
   "execution_count": 91,
   "id": "crude-corps",
   "metadata": {},
   "outputs": [],
   "source": [
    "X = iris['data'][:, (2, 3)] # petal length, petal width\n",
    "y = iris['target']"
   ]
  },
  {
   "cell_type": "code",
   "execution_count": 93,
   "id": "loaded-thumb",
   "metadata": {},
   "outputs": [
    {
     "data": {
      "text/plain": [
       "LogisticRegression(C=10, multi_class='multinomial')"
      ]
     },
     "execution_count": 93,
     "metadata": {},
     "output_type": "execute_result"
    }
   ],
   "source": [
    "softmax_reg = LogisticRegression(multi_class='multinomial', solver='lbfgs', C=10)\n",
    "softmax_reg.fit(X, y)"
   ]
  },
  {
   "cell_type": "code",
   "execution_count": 94,
   "id": "convinced-schema",
   "metadata": {},
   "outputs": [
    {
     "data": {
      "text/plain": [
       "array([2])"
      ]
     },
     "execution_count": 94,
     "metadata": {},
     "output_type": "execute_result"
    }
   ],
   "source": [
    "softmax_reg.predict([[5, 2]])"
   ]
  },
  {
   "cell_type": "code",
   "execution_count": 95,
   "id": "selective-garden",
   "metadata": {},
   "outputs": [
    {
     "data": {
      "text/plain": [
       "array([[6.38014896e-07, 5.74929995e-02, 9.42506362e-01]])"
      ]
     },
     "execution_count": 95,
     "metadata": {},
     "output_type": "execute_result"
    }
   ],
   "source": [
    "softmax_reg.predict_proba([[5, 2]])"
   ]
  },
  {
   "cell_type": "code",
   "execution_count": 100,
   "id": "plastic-agency",
   "metadata": {},
   "outputs": [],
   "source": [
    "a = np.random.randn(5, 3)"
   ]
  },
  {
   "cell_type": "code",
   "execution_count": 114,
   "id": "systematic-malta",
   "metadata": {},
   "outputs": [],
   "source": [
    "alpha = 0.1\n",
    "n_outputs = 3"
   ]
  },
  {
   "cell_type": "code",
   "execution_count": 116,
   "id": "vocational-murray",
   "metadata": {},
   "outputs": [
    {
     "data": {
      "text/plain": [
       "array([[ 0.        ,  0.        ,  0.        ],\n",
       "       [-0.01438568,  0.20978939,  0.00785479],\n",
       "       [ 0.0949321 , -0.1132431 , -0.09129873],\n",
       "       [ 0.0418884 , -0.10148598,  0.1788978 ],\n",
       "       [-0.08658735,  0.07176174,  0.04204228]])"
      ]
     },
     "execution_count": 116,
     "metadata": {},
     "output_type": "execute_result"
    }
   ],
   "source": [
    "np.r_[np.zeros([1, n_outputs]), alpha * a[1:]]"
   ]
  },
  {
   "cell_type": "code",
   "execution_count": 102,
   "id": "another-beads",
   "metadata": {},
   "outputs": [
    {
     "data": {
      "text/plain": [
       "array([ 2.54160644,  2.03258508, -1.09609736,  1.19300219,  0.27216667])"
      ]
     },
     "execution_count": 102,
     "metadata": {},
     "output_type": "execute_result"
    }
   ],
   "source": [
    "np.sum(a, axis=1)"
   ]
  },
  {
   "cell_type": "code",
   "execution_count": 103,
   "id": "timely-carroll",
   "metadata": {},
   "outputs": [
    {
     "data": {
      "text/plain": [
       "array([[ 2.54160644],\n",
       "       [ 2.03258508],\n",
       "       [-1.09609736],\n",
       "       [ 1.19300219],\n",
       "       [ 0.27216667]])"
      ]
     },
     "execution_count": 103,
     "metadata": {},
     "output_type": "execute_result"
    }
   ],
   "source": [
    "np.sum(a, axis=1, keepdims=True)"
   ]
  },
  {
   "cell_type": "code",
   "execution_count": 109,
   "id": "accomplished-burner",
   "metadata": {},
   "outputs": [
    {
     "data": {
      "text/plain": [
       "(5, 3)"
      ]
     },
     "execution_count": 109,
     "metadata": {},
     "output_type": "execute_result"
    }
   ],
   "source": [
    "a.shape"
   ]
  },
  {
   "cell_type": "code",
   "execution_count": 110,
   "id": "welcome-bacon",
   "metadata": {},
   "outputs": [
    {
     "data": {
      "text/plain": [
       "(4, 3)"
      ]
     },
     "execution_count": 110,
     "metadata": {},
     "output_type": "execute_result"
    }
   ],
   "source": [
    "a[1:].shape"
   ]
  },
  {
   "cell_type": "code",
   "execution_count": 107,
   "id": "floral-night",
   "metadata": {},
   "outputs": [
    {
     "data": {
      "text/plain": [
       "array([[0.02069476, 4.40115897, 0.00616977],\n",
       "       [0.90121028, 1.28239996, 0.83354585],\n",
       "       [0.1754638 , 1.02994033, 3.20044212],\n",
       "       [0.74973696, 0.51497473, 0.17675533]])"
      ]
     },
     "execution_count": 107,
     "metadata": {},
     "output_type": "execute_result"
    }
   ],
   "source": [
    "np.square(a[1:])"
   ]
  },
  {
   "cell_type": "code",
   "execution_count": null,
   "id": "dressed-utilization",
   "metadata": {},
   "outputs": [],
   "source": []
  }
 ],
 "metadata": {
  "kernelspec": {
   "display_name": "Python 3",
   "language": "python",
   "name": "python3"
  },
  "language_info": {
   "codemirror_mode": {
    "name": "ipython",
    "version": 3
   },
   "file_extension": ".py",
   "mimetype": "text/x-python",
   "name": "python",
   "nbconvert_exporter": "python",
   "pygments_lexer": "ipython3",
   "version": "3.9.1"
  }
 },
 "nbformat": 4,
 "nbformat_minor": 5
}
